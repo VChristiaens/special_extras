{
 "cells": [
  {
   "cell_type": "markdown",
   "id": "31fec3b7",
   "metadata": {},
   "source": [
    "# special_extras\n",
    "\n",
    "\n",
    "\n",
    "\n",
    "> additional material for [special](https://github.com/VChristiaens/special)\n",
    "\n",
    "\n",
    "## Tutorials [(&rarr; browse)](../../tree/tutorials)\n",
    "\n",
    "A walkthrough tutorial in the form of a Jupyter notebook can be found in the `tutorials/` folder. They can be visualized directly here on GitHub (by just clicking on them), or using the nbviewer service.\n",
    "\n",
    "> [GitHub](./tutorials/walkthrough.ipynb) / [nbviewer](http://nbviewer.jupyter.org/github/VChristiaens/special_extras/blob/master/tutorials/walkthrough.ipynb) / [binder](https://mybinder.org/v2/gh/VChristiaens/special_extras/master?filepath=tutorials%2Fwalkthrough.ipynb)\n",
    "\n",
    "This tutorial covers:\n",
    "\n",
    "- loading the test dataset;\n",
    "- calculating a spectral correlation matrix (e.g. for use in spectral fits involving IFS measurements);\n",
    "- using the MCMC (emcee) sampler to infer posterior distributions on spectral model parameters;\n",
    "- using the nested (nestle) sampler to infer posterior distributions on spectral model parameters;\n",
    "- finding the best-fit spectral template in a given library, with 2 free parameters (scaling and extinction).\n",
    "\n",
    "\n",
    "## Datasets [(&rarr; browse)](../../tree/datasets)\n",
    "\n",
    "The data used in the tutorial are located in the `datasets/` folder, and correspond to the J1900-3645 b/B (aka. CrA-9 b/B) spectrum acquired from VLT/SPHERE-IFS, VLT/SPHERE-IRDIS and VLT/NACO high-contrast imaging data presented in [Christiaens et al. (2021)](https://ui.adsabs.harvard.edu/abs/2021MNRAS.502.6117C/abstract).\n",
    "\n",
    "\n",
    "## Models and templates [(&rarr; browse)](../../tree/static)\n",
    "\n",
    "For the purpose of the tutorial, we only use a fraction of the BT-SETTL model grid [(Allard et al. 2012)](https://ui.adsabs.harvard.edu/abs/2012RSPTA.370.2765A/abstract) spanning effective temperatures of 2000 K to 4000 K. \n",
    "We also downloaded the full Montreal Spectral Library of low-mass dwarf template spectra.\n",
    "Both the model grid and the template library are placed in the `static/` folder.\n",
    "\n",
    "\n"
   ]
  }
 ],
 "metadata": {},
 "nbformat": 4,
 "nbformat_minor": 5
}
