{
 "cells": [
  {
   "cell_type": "markdown",
   "metadata": {},
   "source": [
    "# *special* tutorial"
   ]
  },
  {
   "cell_type": "markdown",
   "metadata": {},
   "source": [
    "Written by: *Valentin Christiaens*.\n",
    "\n",
    "Last update: *2022/06/09*\n",
    "\n",
    "This jupyter notebook tutorial is available in the ``special-extras`` [repository](https://github.com/VChristiaens/special_extras). \n",
    "Alternatively, you can execute this repository on [Binder](https://mybinder.org/v2/gh/VChristiaens/special_extras/main) (in the tutorials directory)."
   ]
  },
  {
   "cell_type": "markdown",
   "metadata": {},
   "source": [
    "## Table of contents\n",
    "\n",
    "* [1. Loading the data](#1.-Loading-the-data)\n",
    "\n",
    "* [2. Spectral correlation matrix](#2.-Spectral-correlation-matrix)\n",
    "    - [2.1 Estimating the spectral correlation between IFS channels](#2.1-Estimating-the-spectral-correlation-between-IFS-channels)\n",
    "    - [2.2 Concatenating spectral correlation matrices](#2.2-Concatenating-spectral-correlation-matrices)\n",
    "\n",
    "* [3. Preliminary spectral analysis](#3.-Preliminary-spectral-analysis)\n",
    "    - [3.1 Dereddening](#3.1-Dereddening)\n",
    "    - [3.2 Spectral indices](#3.2-Spectral-indices)\n",
    "    \n",
    "* [4. MCMC sampler examples](#4.-MCMC-sampler-examples)\n",
    "    - [4.1. Parameters](#4.1.-Parameters)\n",
    "    - [4.2. Blackbody model](#4.2.-Blackbody-model)\n",
    "    - [4.3. BT-SETTL model](#4.3.-BT-SETTL-model)\n",
    "    - [4.4. BT-SETTL + BB model](#4.4.-BT-SETTL-+-BB-model)\n",
    "    - [4.5. BT-SETTL + BrG line model](#4.5.-BT-SETTL-+-BrG-line-model)\n",
    "    \n",
    "* [5. Comparison of results](#5.-Comparison-of-results)\n",
    "    - [5.1. Akaike Information Criterion](#5.1.-Akaike-Information-Criterion)\n",
    "    - [5.2. Best-fit models](#5.2.-Best-fit-models)\n",
    "    - [5.3. Models from the posterior distribution](#5.3.-Models-from-the-posterior-distribution)\n",
    "\n",
    "* [6. Nested sampler examples](#6.-Nested-sampler-examples)\n",
    "    - [6.1. Nestle - single ellipsoid method](#6.1.-Nestle---single-ellipsoid-method)\n",
    "    - [6.2. Nestle - multi-ellipsoid method](#6.2.-Nestle---multi-ellipsoid-method)\n",
    "    - [6.3. UltraNest](#6.3.-UltraNest)\n",
    "* [7. Best-fit template spectrum](#7.-Best-fit-template-spectrum)"
   ]
  },
  {
   "cell_type": "markdown",
   "metadata": {},
   "source": [
    "-----------"
   ]
  },
  {
   "cell_type": "code",
   "execution_count": 1,
   "metadata": {},
   "outputs": [
    {
     "data": {
      "text/plain": [
       "'0.1.2'"
      ]
     },
     "execution_count": 1,
     "metadata": {},
     "output_type": "execute_result"
    }
   ],
   "source": [
    "import special\n",
    "special.__version__"
   ]
  },
  {
   "cell_type": "code",
   "execution_count": 2,
   "metadata": {
    "scrolled": true
   },
   "outputs": [],
   "source": [
    "%matplotlib inline\n",
    "from matplotlib import pyplot as plt\n",
    "import numpy as np"
   ]
  },
  {
   "cell_type": "markdown",
   "metadata": {},
   "source": [
    "# 1. Loading the data"
   ]
  },
  {
   "cell_type": "markdown",
   "metadata": {},
   "source": [
    "In the 'dataset' folder of the `special_extras` repository you can find:\n",
    "\n",
    "- a post-processed Integral Field Spectrograph (IFS) datacube (`CrA-9_2019_IFS_pca_annulus.fits`);\n",
    "- the measured spectrum of (sub)stellar companion CrA-9 b/B (`CrA-9b_spectrum.fits`).\n",
    "\n",
    "Let's define our input path:"
   ]
  },
  {
   "cell_type": "code",
   "execution_count": 3,
   "metadata": {},
   "outputs": [],
   "source": [
    "import os\n",
    "path = os.path.dirname(os.path.dirname(os.path.realpath(\"__file__\")))\n",
    "datpath = path+'/datasets/'"
   ]
  },
  {
   "cell_type": "markdown",
   "metadata": {},
   "source": [
    "In the post-processed IFS cube, the emission from the central star has been modeled and subtracted using the ADI strategy in each spectral channel. The post-processing was performed using principal component analysis (PCA) applied in a single annulus. The annulus was chosen to encompass the faint (sub)stellar companion CrA-9b/B, which can be seen towards the left of the images.\n",
    "\n",
    "Let's first inspect the IFS cube using the `info_fits` utility implemented in the `fits` module:"
   ]
  },
  {
   "cell_type": "code",
   "execution_count": 4,
   "metadata": {},
   "outputs": [
    {
     "name": "stdout",
     "output_type": "stream",
     "text": [
      "Filename: /Users/valentin/GitHub/special_extras/datasets/CrA-9_2019_IFS_pca_annulus.fits\n",
      "No.    Name      Ver    Type      Cards   Dimensions   Format\n",
      "  0  PRIMARY       1 PrimaryHDU       7   (291, 291, 39)   float64   \n"
     ]
    }
   ],
   "source": [
    "from special.fits import info_fits\n",
    "info_fits(datpath+'CrA-9_2019_IFS_pca_annulus.fits')"
   ]
  },
  {
   "cell_type": "markdown",
   "metadata": {},
   "source": [
    "The fits file contains an IFS datacube of 39 images with wavelengths spanning 0.95 to 1.68 $\\mu$m.\n",
    "Each image is 291x291 px across. Let's now open it and check a few spectral channels."
   ]
  },
  {
   "cell_type": "code",
   "execution_count": 5,
   "metadata": {},
   "outputs": [
    {
     "name": "stdout",
     "output_type": "stream",
     "text": [
      "Fits HDU-0 data successfully loaded. Data shape: (39, 291, 291)\n"
     ]
    }
   ],
   "source": [
    "from special.fits import open_fits\n",
    "ifs_cube = open_fits(datpath+'CrA-9_2019_IFS_pca_annulus.fits')"
   ]
  },
  {
   "cell_type": "code",
   "execution_count": 6,
   "metadata": {},
   "outputs": [
    {
     "data": {
      "text/plain": [
       "<matplotlib.image.AxesImage at 0x7f85085697f0>"
      ]
     },
     "execution_count": 6,
     "metadata": {},
     "output_type": "execute_result"
    },
    {
     "data": {
      "image/png": "[encoded data removed]",
      "text/plain": [
       "<Figure size 576x360 with 3 Axes>"
      ]
     },
     "metadata": {
      "needs_background": "light"
     },
     "output_type": "display_data"
    }
   ],
   "source": [
    "from special.config import figsize\n",
    "fig, axes = plt.subplots(1,3,figsize=figsize)\n",
    "axes[0].imshow(ifs_cube[1])\n",
    "axes[1].imshow(ifs_cube[19])\n",
    "axes[2].imshow(ifs_cube[-1])"
   ]
  },
  {
   "cell_type": "markdown",
   "metadata": {},
   "source": [
    "A point source can be seen towards the left of the image. This is CrA-9 b/B, a faint companion to the pre-main sequence star CrA-9, whose nature is still debated (Christiaens et al. 2021). In addition to this IFS datacube obtained with VLT instrument SPHERE/IFS, three additional detections of the companion were obtained with VLT imagers SPHERE/IRDIS at 2.11 $\\mu$m and 2.25$\\mu$m, and NACO at 3.8 $\\mu$m. The full measured spectrum contains thus 42 points: "
   ]
  },
  {
   "cell_type": "code",
   "execution_count": 7,
   "metadata": {},
   "outputs": [
    {
     "name": "stdout",
     "output_type": "stream",
     "text": [
      "Filename: /Users/valentin/GitHub/special_extras/datasets/CrA-9b_spectrum.fits\n",
      "No.    Name      Ver    Type      Cards   Dimensions   Format\n",
      "  0  PRIMARY       1 PrimaryHDU       6   (42, 4)   float32   \n"
     ]
    }
   ],
   "source": [
    "info_fits(datpath+'CrA-9b_spectrum.fits')"
   ]
  },
  {
   "cell_type": "markdown",
   "metadata": {},
   "source": [
    "The 4 dimensions correspond to:\n",
    "\n",
    "- the wavelength of each measurement (in $\\mu$m); \n",
    "- the channel width (or FWHM of the broad band filter used in the case or IRDIS and NACO);\n",
    "- the flux of the companion;\n",
    "- the error on the flux."
   ]
  },
  {
   "cell_type": "code",
   "execution_count": 8,
   "metadata": {},
   "outputs": [
    {
     "name": "stdout",
     "output_type": "stream",
     "text": [
      "Fits HDU-0 data successfully loaded. Data shape: (4, 42)\n"
     ]
    }
   ],
   "source": [
    "spectrum_b = open_fits(datpath+'CrA-9b_spectrum.fits')\n",
    "\n",
    "lbda = spectrum_b[0]\n",
    "dlbda = spectrum_b[1]\n",
    "spec = spectrum_b[2]\n",
    "spec_err = spectrum_b[3]"
   ]
  },
  {
   "cell_type": "markdown",
   "metadata": {},
   "source": [
    "The flux units follow the SI convention (W m$^{-2}$). Let's set it for later. Note that `special` can also handle 'cgs' and 'jy'. The relevant conversions will be made internally if units are provided for observed and model spectra. If not specified, `special` assumes SI units."
   ]
  },
  {
   "cell_type": "code",
   "execution_count": 9,
   "metadata": {},
   "outputs": [],
   "source": [
    "units_obs = 'si'"
   ]
  },
  {
   "cell_type": "markdown",
   "metadata": {},
   "source": [
    "Let's visualize the measured spectrum in $\\lambda F_{\\lambda}$ units:"
   ]
  },
  {
   "cell_type": "code",
   "execution_count": 10,
   "metadata": {},
   "outputs": [
    {
     "data": {
      "text/plain": [
       "<matplotlib.legend.Legend at 0x7f8568a9d940>"
      ]
     },
     "execution_count": 10,
     "metadata": {},
     "output_type": "execute_result"
    },
    {
     "data": {
      "image/png": "[encoded data removed]",
      "text/plain": [
       "<Figure size 576x360 with 1 Axes>"
      ]
     },
     "metadata": {
      "needs_background": "light"
     },
     "output_type": "display_data"
    }
   ],
   "source": [
    "fig = plt.figure(figsize=figsize)\n",
    "plt.errorbar(lbda[:-3], lbda[:-3]*spec[:-3], lbda[:-3]*spec_err[:-3], dlbda[:-3], 'bo', \n",
    "             label = 'SPHERE/IFS (YJH)')\n",
    "plt.errorbar(lbda[-3:-1], lbda[-3:-1]*spec[-3:-1], lbda[-3:-1]*spec_err[-3:-1], dlbda[-3:-1], 'ms', \n",
    "             label = 'SPHERE/IRDIS (K12)')\n",
    "plt.errorbar(lbda[-1], lbda[-1]*spec[-1], lbda[-1]*spec_err[-1], dlbda[-1], 'rs', \n",
    "             label = \"NACO (L')\")\n",
    "plt.xlabel(r\"Wavelength ($\\mu$m)\")\n",
    "plt.ylabel(r\"Flux (W/m$^2$)\")\n",
    "plt.legend()"
   ]
  },
  {
   "cell_type": "markdown",
   "metadata": {},
   "source": [
    "[Go to the top](#Table-of-contents)"
   ]
  },
  {
   "cell_type": "markdown",
   "metadata": {},
   "source": [
    "# 2. Spectral correlation matrix"
   ]
  },
  {
   "cell_type": "markdown",
   "metadata": {},
   "source": [
    "## 2.1 Estimating the spectral correlation between IFS channels"
   ]
  },
  {
   "cell_type": "markdown",
   "metadata": {},
   "source": [
    "Before fitting different models to the spectrum, let's first estimate the spectral correlation between the IFS channels. By design of the IFS, the flux at a given wavelength leaks on/overlaps with neighbouring channels. These can therefore not be considered as independent measurements. The spectral correlation matrix has therefore to be considered when fitting a given IFS spectrum. Not taking it into account can indeed lead to significant biases, and in particular to erroneous results in terms of best-fit model parameters (see e.g. [Greco & Brandt 2016](https://ui.adsabs.harvard.edu/abs/2016ApJ...833..134G/abstract)). "
   ]
  },
  {
   "cell_type": "markdown",
   "metadata": {},
   "source": [
    "Estimating the spectral correlation can be done easily in `special` using the `spectral_correlation` routine, which follows the method recommended in [Greco & Brandt 2016](https://ui.adsabs.harvard.edu/abs/2016ApJ...833..134G/abstract). For that let's first determine the location of the companion in the IFS images, by zooming on the median image of the cube:"
   ]
  },
  {
   "cell_type": "code",
   "execution_count": 11,
   "metadata": {},
   "outputs": [
    {
     "data": {
      "image/png": "[encoded data removed]",
      "text/plain": [
       "<Figure size 432x288 with 1 Axes>"
      ]
     },
     "metadata": {
      "needs_background": "light"
     },
     "output_type": "display_data"
    }
   ],
   "source": [
    "x_i = 35\n",
    "y_i = 130\n",
    "sz = 31\n",
    "plt.imshow(np.median(ifs_cube,axis=0)[y_i:y_i+sz,x_i:x_i+sz])\n",
    "plt.gca().invert_yaxis()\n",
    "plt.grid()"
   ]
  },
  {
   "cell_type": "markdown",
   "metadata": {},
   "source": [
    "Based on the above inset, we can set the approximate coordinates of the companion, and infer its radial separation:"
   ]
  },
  {
   "cell_type": "code",
   "execution_count": 12,
   "metadata": {},
   "outputs": [
    {
     "data": {
      "text/plain": [
       "93.08598175880189"
      ]
     },
     "execution_count": 12,
     "metadata": {},
     "output_type": "execute_result"
    }
   ],
   "source": [
    "pl_xy = ((x_i+17,y_i+11),) # set pl_xy as a tuple of 2-element tuples - each tuple corresponds to a different companion\n",
    "\n",
    "cy = (ifs_cube.shape[1]/2.)-0.5\n",
    "cx = (ifs_cube.shape[2]/2.)-0.5\n",
    "r0 = np.sqrt((pl_xy[0][0]-cx)**2+(pl_xy[0][1]-cy)**2)\n",
    "r0"
   ]
  },
  {
   "cell_type": "markdown",
   "metadata": {},
   "source": [
    "The spectral correlation depends on the radial separation to the central star. The algorithm implemented in `special` can therefore compute it in concentric annuli between given inner and outer radii (by default spanning the whole field). Here since we are only interested in the spectral correlation at the radial separation of the companion, let's set the annular width, inner and outer radii such that they only encompass the companion radial separation:\n"
   ]
  },
  {
   "cell_type": "code",
   "execution_count": 13,
   "metadata": {},
   "outputs": [],
   "source": [
    "awidth=2\n",
    "r_in = int(r0-awidth/2)\n",
    "r_out = int(r0+awidth/2)"
   ]
  },
  {
   "cell_type": "markdown",
   "metadata": {},
   "source": [
    "Furthermore, we mask the area around the companion to not bias the spectral correlation estimate with companion flux. We set the mask radius to be 4 times the FWHM, with a FWHM set to 4px:\n"
   ]
  },
  {
   "cell_type": "code",
   "execution_count": 14,
   "metadata": {},
   "outputs": [],
   "source": [
    "mask_r=4\n",
    "fwhm=4"
   ]
  },
  {
   "cell_type": "markdown",
   "metadata": {},
   "source": [
    "Now, we can estimate the spectral correlation at the radial separation of CrA-9b/B:"
   ]
  },
  {
   "cell_type": "code",
   "execution_count": 15,
   "metadata": {},
   "outputs": [],
   "source": [
    "from special.spec_corr import spectral_correlation\n",
    "sp_corr = spectral_correlation(ifs_cube, awidth=awidth, r_in=r_in, r_out=r_out, pl_xy=pl_xy, \n",
    "                               mask_r=mask_r, fwhm=fwhm)\n",
    "sp_corr = sp_corr[0]"
   ]
  },
  {
   "cell_type": "markdown",
   "metadata": {},
   "source": [
    "Let's visualize it:"
   ]
  },
  {
   "cell_type": "code",
   "execution_count": 16,
   "metadata": {},
   "outputs": [
    {
     "data": {
      "image/png": "[encoded data removed]",
      "text/plain": [
       "<Figure size 432x288 with 2 Axes>"
      ]
     },
     "metadata": {
      "needs_background": "light"
     },
     "output_type": "display_data"
    }
   ],
   "source": [
    "plt.imshow(sp_corr)\n",
    "plt.colorbar()\n",
    "plt.gca().invert_yaxis()"
   ]
  },
  {
   "cell_type": "markdown",
   "metadata": {},
   "source": [
    "Here we used a high number of principal components for PCA, and the companion is far away from the star, such that the correlated speckle noise is efficiently subtracted from each reduced channel. Consequently, not much correlation can be seen between channels. Each spectral channel is most correlated to itself, and at most to its 2 closest neighbouring channels. Note that zero is adopted for uncorrelated channels."
   ]
  },
  {
   "cell_type": "markdown",
   "metadata": {},
   "source": [
    "## 2.2 Concatenating spectral correlation matrices"
   ]
  },
  {
   "cell_type": "markdown",
   "metadata": {},
   "source": [
    "Since our full spectrum of CrA-9b/B also contains photometric points measured by SPHERE/IRDIS (2) and NACO (1), we need to pad the IFS spectral correlation matrix with 3 additional rows and columns of zeroes + ones on the diagonal, in order to get the final spectral correlation matrix.\n",
    "\n",
    "This can easily be done with the `combine_spec_corrs` routine:"
   ]
  },
  {
   "cell_type": "code",
   "execution_count": 17,
   "metadata": {},
   "outputs": [],
   "source": [
    "from special.spec_corr import combine_spec_corrs\n",
    "\n",
    "n_ird=2\n",
    "n_naco=1\n",
    "arr_list = [sp_corr]+[1]*n_ird+[1]*n_naco\n",
    "\n",
    "final_sp_corr = combine_spec_corrs(arr_list)"
   ]
  },
  {
   "cell_type": "markdown",
   "metadata": {},
   "source": [
    "Let's visualize the final matrix:"
   ]
  },
  {
   "cell_type": "code",
   "execution_count": 18,
   "metadata": {},
   "outputs": [
    {
     "data": {
      "image/png": "[encoded data removed]",
      "text/plain": [
       "<Figure size 432x288 with 2 Axes>"
      ]
     },
     "metadata": {
      "needs_background": "light"
     },
     "output_type": "display_data"
    }
   ],
   "source": [
    "plt.imshow(final_sp_corr)\n",
    "plt.colorbar()\n",
    "plt.gca().invert_yaxis()"
   ]
  },
  {
   "cell_type": "markdown",
   "metadata": {},
   "source": [
    "Uncomment the lines in the following box if you wish to save the final spectral correlation matrix in fits format."
   ]
  },
  {
   "cell_type": "code",
   "execution_count": 19,
   "metadata": {},
   "outputs": [],
   "source": [
    "#from special.fits import write_fits\n",
    "#write_fits(datpath+\"CrA-9_sp_corr_matrix.fits\", final_sp_corr)"
   ]
  },
  {
   "cell_type": "markdown",
   "metadata": {},
   "source": [
    "[Go to the top](#Table-of-contents)"
   ]
  },
  {
   "cell_type": "markdown",
   "metadata": {},
   "source": [
    "# 3. Preliminary spectral analysis"
   ]
  },
  {
   "cell_type": "markdown",
   "metadata": {},
   "source": [
    "A number of utilities are implemented in the `utils_spec` module, which allow for a preliminary qualitative analysis of the spectrum of the companion. However, to avoid biased conclusions due to extinction in this preliminary analysis, let's first deredden the observed spectrum using the value quoted in the literature for CrA-9 ($A_V = 1.6$ mag; Dunham et a. 2015)."
   ]
  },
  {
   "cell_type": "markdown",
   "metadata": {},
   "source": [
    "## 3.1 Dereddening"
   ]
  },
  {
   "cell_type": "markdown",
   "metadata": {},
   "source": [
    "Provided a given $A_V$ extinction value, the `extinction` routine can estimate the corresponding extinction factor at different wavelengths following the Cardelli et al. (1989) law, and for a desired $R_V$ value. Let's consider the standard ISM value of $R_V = 3.1$ mag (default if not provided)."
   ]
  },
  {
   "cell_type": "code",
   "execution_count": 20,
   "metadata": {},
   "outputs": [],
   "source": [
    "from special.utils_spec import extinction\n",
    "AV_est = 1.6 #mag\n",
    "A_lambda = extinction(lbda, AV_est, RV=3.1)\n",
    "extinc_fac = np.power(10,-A_lambda/2.5)"
   ]
  },
  {
   "cell_type": "markdown",
   "metadata": {},
   "source": [
    "Let's plot the extinction factor as a function of wavelength:"
   ]
  },
  {
   "cell_type": "code",
   "execution_count": 21,
   "metadata": {},
   "outputs": [
    {
     "data": {
      "text/plain": [
       "Text(0, 0.5, 'Extinction factor')"
      ]
     },
     "execution_count": 21,
     "metadata": {},
     "output_type": "execute_result"
    },
    {
     "data": {
      "image/png": "[encoded data removed]",
      "text/plain": [
       "<Figure size 432x288 with 1 Axes>"
      ]
     },
     "metadata": {
      "needs_background": "light"
     },
     "output_type": "display_data"
    }
   ],
   "source": [
    "plt.plot(lbda, extinc_fac)\n",
    "plt.xlabel(r\"Wavelength ($\\mu$m)\")\n",
    "plt.ylabel(r\"Extinction factor\")"
   ]
  },
  {
   "cell_type": "markdown",
   "metadata": {},
   "source": [
    "We see that as expected the effect of extinction is stronger at shorter NIR wavelengths: at 1.0 $\\mu$m roughly only half of the flux is transmitted, while at $L'$ band (3.8 $\\mu$m) $\\sim$ 93\\% of the flux is transmitted."
   ]
  },
  {
   "cell_type": "markdown",
   "metadata": {},
   "source": [
    "Let's now deredden the spectrum accordingly and plot it:"
   ]
  },
  {
   "cell_type": "code",
   "execution_count": 22,
   "metadata": {},
   "outputs": [
    {
     "data": {
      "text/plain": [
       "<matplotlib.legend.Legend at 0x7f8568b68520>"
      ]
     },
     "execution_count": 22,
     "metadata": {},
     "output_type": "execute_result"
    },
    {
     "data": {
      "image/png": "[encoded data removed]",
      "text/plain": [
       "<Figure size 576x360 with 1 Axes>"
      ]
     },
     "metadata": {
      "needs_background": "light"
     },
     "output_type": "display_data"
    }
   ],
   "source": [
    "spec_dered = spec/extinc_fac\n",
    "spec_dered_err = spec_err/extinc_fac\n",
    "\n",
    "fig = plt.figure(figsize=figsize)\n",
    "plt.plot(lbda, lbda*spec, 'k', label=\"Observed spectrum\")\n",
    "plt.plot(lbda, lbda*spec_dered, 'b', label=\"Dereddened spectrum\")\n",
    "plt.xlabel(r\"Wavelength ($\\mu$m)\")\n",
    "plt.ylabel(r\"Flux (W/m$^2$)\")\n",
    "plt.legend()"
   ]
  },
  {
   "cell_type": "markdown",
   "metadata": {},
   "source": [
    "## 3.2 Spectral indices"
   ]
  },
  {
   "cell_type": "markdown",
   "metadata": {},
   "source": [
    "(Sub)stellar objects of M, L and T types have been extensively studied. Some empirical spectral indices have been proposed to estimate either their spectral type or their gravity type from the measured flux in two parts of their spectrum. Some of these spectral indices have been included in `special` (additional inputs are welcome). An example is provided below with the H$_2$O and Na indices which are relevant for a $YJH$ spectrum.\n",
    "\n",
    "It is important to note that different spectral indices are valid in different spectral subtype ranges! The interested reader is referred to the following works: Allers et al. (2007); Bonnefoy et al. (2014) and references therein."
   ]
  },
  {
   "cell_type": "code",
   "execution_count": 23,
   "metadata": {},
   "outputs": [
    {
     "name": "stdout",
     "output_type": "stream",
     "text": [
      "Closest (non-overlapping) wavelengths to 1.550, 1.560, 1.492 and 1.502 mu correspond to 1.544, 1.563, 1.486 and 1.506 mu resp.\n",
      "*WARNING*: spectral resolution is barely sufficient for non-overlapping indices - results to be taken with caution!\n",
      "Closest (non-overlapping) wavelengths to 1.150, 1.160, 1.134 and 1.144 mu correspond to 1.163, 1.163, 1.124 and 1.144 mu resp.\n",
      "***********************\n",
      "H2O index: 0.975+-0.007\n",
      "Na index: 1.011+-0.004\n",
      "***********************\n"
     ]
    }
   ],
   "source": [
    "from special.spec_indices import spectral_idx\n",
    "\n",
    "H2O_idx = spectral_idx(lbda, spec_dered, 'H2O-1.5', spec_dered_err, verbose=True)\n",
    "Na_idx = spectral_idx(lbda, spec_dered, 'Na-1.1', spec_dered_err, verbose=True)\n",
    "        \n",
    "print(\"***********************\")\n",
    "print(\"H2O index: {:.3f}+-{:.3f}\".format(H2O_idx[0],H2O_idx[1]))\n",
    "print(\"Na index: {:.3f}+-{:.3f}\".format(Na_idx[0],Na_idx[1]))\n",
    "print(\"***********************\")"
   ]
  },
  {
   "cell_type": "markdown",
   "metadata": {},
   "source": [
    "The H$_2$O index can then be converted to an estimated spectral type:"
   ]
  },
  {
   "cell_type": "code",
   "execution_count": 24,
   "metadata": {},
   "outputs": [
    {
     "name": "stdout",
     "output_type": "stream",
     "text": [
      "SpT: M5.1+-0.8\n"
     ]
    }
   ],
   "source": [
    "from special.spec_indices import sp_idx_to_spt, digit_to_spt\n",
    "\n",
    "spt, spt_err = sp_idx_to_spt(H2O_idx[0], 'H2O-1.5', H2O_idx[1])\n",
    "spt_str = digit_to_spt(spt, convention='Allers07')\n",
    "print(\"SpT: {}+-{:.1f}\".format(spt_str, spt_err))"
   ]
  },
  {
   "cell_type": "markdown",
   "metadata": {},
   "source": [
    "The Na index on the other hand can be used to provide a qualitative estimate on the gravity (hence the youth) of an object:"
   ]
  },
  {
   "cell_type": "code",
   "execution_count": 25,
   "metadata": {},
   "outputs": [
    {
     "name": "stdout",
     "output_type": "stream",
     "text": [
      "The object's gravity is consistent with being very young (Na index less than 1.4; Allers et al. 2007))\n"
     ]
    }
   ],
   "source": [
    "from special.spec_indices import sp_idx_to_gravity\n",
    "\n",
    "sp_idx_to_gravity(Na_idx, name='Na-1.1')"
   ]
  },
  {
   "cell_type": "markdown",
   "metadata": {},
   "source": [
    "[Go to the top](#Table-of-contents)"
   ]
  },
  {
   "cell_type": "markdown",
   "metadata": {},
   "source": [
    "# 4. MCMC sampler examples"
   ]
  },
  {
   "cell_type": "markdown",
   "metadata": {},
   "source": [
    "Now let's fit different models to the observed spectrum of CrA-9 b/B."
   ]
  },
  {
   "cell_type": "markdown",
   "metadata": {},
   "source": [
    "In that purpose, let's first define some parameters that will be common to all MCMC sampler runs on this measured spectrum."
   ]
  },
  {
   "cell_type": "markdown",
   "metadata": {},
   "source": [
    "## 4.1. Parameters"
   ]
  },
  {
   "cell_type": "markdown",
   "metadata": {},
   "source": [
    "Let's first define the distance to the system, which will be used to scale the models (along with the companion radius):"
   ]
  },
  {
   "cell_type": "code",
   "execution_count": 26,
   "metadata": {},
   "outputs": [],
   "source": [
    "d_st = 153. #pc based on Gaia"
   ]
  },
  {
   "cell_type": "markdown",
   "metadata": {},
   "source": [
    "The internal workings of `special` allow for the convolution with the spectral PSF of (in the case of an IFS), or the integration over a filter transmission curve (in the case of photometric points). For these options to be considered, let's provide the nominal spectral FWHM in nm for IFS (19.15 nm), and the name of the filenames where the filter transmission curves are encoded. "
   ]
  },
  {
   "cell_type": "code",
   "execution_count": 27,
   "metadata": {},
   "outputs": [],
   "source": [
    "instru_res = [34.5, 'SPHERE_IRDIS_D_K1.dat', 'SPHERE_IRDIS_D_K2.dat', 'CONICA_L_prime.dat']"
   ]
  },
  {
   "cell_type": "markdown",
   "metadata": {},
   "source": [
    "Now let's assign an index to each instrument and build a list that will tell the algorithm which `instru_res` values are to be assigned to which datapoints."
   ]
  },
  {
   "cell_type": "code",
   "execution_count": 28,
   "metadata": {},
   "outputs": [],
   "source": [
    "n_ifs=39\n",
    "instru_idx = np.array(n_ifs*[1]+[2]+[3]+[4])  "
   ]
  },
  {
   "cell_type": "markdown",
   "metadata": {},
   "source": [
    "In addition, we define a snippet function that can read the filter transmissions mentioned in the list. For convenience (and to allow for multiprocessing), it is defined in `utils.py`, and commented below FYI."
   ]
  },
  {
   "cell_type": "code",
   "execution_count": 29,
   "metadata": {},
   "outputs": [],
   "source": [
    "from utils import filter_reader\n",
    "\n",
    "# import pandas as pd\n",
    "# def filter_reader(filename):\n",
    "#     # snippet to read filter files and return a tuple: lbda (mu), transmission\n",
    "#     path = os.path.dirname(os.path.dirname(os.path.realpath(\"__file__\")))\n",
    "#     filter_path = path+\"/static/filters/\"\n",
    "#     filt_table = pd.read_csv(filter_path+filename, sep=' ', header=0, \n",
    "#                              skipinitialspace=True)\n",
    "#     keys = filt_table.keys()\n",
    "#     lbda_filt = np.array(filt_table[keys[0]])\n",
    "#     if lbda_filt.dtype == 'O':\n",
    "#         filt_table = pd.read_csv(filter_path+filename, sep='\\t', header=0, \n",
    "#                                  skipinitialspace=True)\n",
    "#         keys = filt_table.keys()\n",
    "#         lbda_filt = np.array(filt_table[keys[0]])\n",
    "#     elif lbda_filt.dtype == 'int32' or lbda_filt.dtype == 'int64': \n",
    "#         lbda_filt = np.array(filt_table[keys[0]], dtype='float64')\n",
    "#     if '(AA)' in keys[0]:\n",
    "#         lbda_filt /=10000\n",
    "#     elif '(mu)' in keys[0]:\n",
    "#         pass\n",
    "#     elif '(nm)' in keys[0]:\n",
    "#         lbda_filt /=1000\n",
    "#     else:\n",
    "#         raise ValueError('Wavelength unit not recognised in filter file')\n",
    "#     trans = np.array(filt_table[keys[1]])\n",
    "#     return lbda_filt, trans"
   ]
  },
  {
   "cell_type": "markdown",
   "metadata": {},
   "source": [
    "Let's assemble all parameters related to the instrument(s) and filter(s) into a dictionary, including as well the spectral correlation calculated in Sec. 2:"
   ]
  },
  {
   "cell_type": "code",
   "execution_count": 30,
   "metadata": {},
   "outputs": [],
   "source": [
    "instru_params = {'instru_res':instru_res,\n",
    "                 'instru_idx':instru_idx,\n",
    "                 'instru_corr': final_sp_corr,\n",
    "                 'filter_reader': filter_reader}"
   ]
  },
  {
   "cell_type": "markdown",
   "metadata": {},
   "source": [
    "`special` was implemented with directly imaged substellar objects in mind. Radii and masses therefore implicitly assume Jovian units. If you prefer Solar radii for your outputs, set `star` to True in the following box:"
   ]
  },
  {
   "cell_type": "code",
   "execution_count": 31,
   "metadata": {},
   "outputs": [],
   "source": [
    "from astropy import constants as c\n",
    "\n",
    "star = False # whether use Solar units\n",
    "if star:\n",
    "    conv_RS = c.R_jup/c.R_sun\n",
    "    conv_RS"
   ]
  },
  {
   "cell_type": "markdown",
   "metadata": {},
   "source": [
    "Let's set the MCMC parameters identically for all runs shown in the next subsections (see more details in `emcee` documentation):"
   ]
  },
  {
   "cell_type": "code",
   "execution_count": 32,
   "metadata": {},
   "outputs": [],
   "source": [
    "a=2.0\n",
    "nwalkers=100\n",
    "niteration_min=100\n",
    "niteration_limit=500 # recommended>> 1000\n",
    "nproc = 2            # number of CPUs\n",
    "\n",
    "mcmc_params = {'a':a,\n",
    "               'nwalkers':nwalkers,\n",
    "               'niteration_min':niteration_min,\n",
    "               'niteration_limit':niteration_limit,\n",
    "               'nproc':nproc}"
   ]
  },
  {
   "cell_type": "markdown",
   "metadata": {},
   "source": [
    "Similarly, we adopt the autocorrelation time criterion for convergence for all MCMC runs (see more details [here](https://emcee.readthedocs.io/en/stable/tutorials/autocorr/)):"
   ]
  },
  {
   "cell_type": "code",
   "execution_count": 33,
   "metadata": {},
   "outputs": [],
   "source": [
    "conv_test='ac'\n",
    "ac_c=50\n",
    "ac_count_thr=1\n",
    "\n",
    "conv_params = {'conv_test': conv_test,\n",
    "               'ac_c': ac_c,\n",
    "               'ac_count_thr':ac_count_thr}"
   ]
  },
  {
   "cell_type": "markdown",
   "metadata": {},
   "source": [
    "Note that for the purpose of this tutorial, we set a low number of walkers and a low maximum number of iterations. It is recommended to set it large enough (>>1000, depends on number of parameters and model) such that the convergence criterion will break the chain once it is met."
   ]
  },
  {
   "cell_type": "markdown",
   "metadata": {},
   "source": [
    "## 4.2. Blackbody model"
   ]
  },
  {
   "cell_type": "markdown",
   "metadata": {},
   "source": [
    "This model does not involve any grid:"
   ]
  },
  {
   "cell_type": "code",
   "execution_count": 34,
   "metadata": {},
   "outputs": [],
   "source": [
    "grid_list=None # triggers a blackbody fit"
   ]
  },
  {
   "cell_type": "markdown",
   "metadata": {},
   "source": [
    "The 2 parameters are the temperature and radius (of a sphere). It is important to label the blackbody temperature and radius 'Tbb1' and 'Rbb1', respectively. This is because `special` allows for the addition of an unlimited number of blackbody components. E.g. for n components, set the labels from 'Tbb1' to 'Tbbn' and from 'Rbb1' to 'Rbbn'. "
   ]
  },
  {
   "cell_type": "code",
   "execution_count": 35,
   "metadata": {},
   "outputs": [],
   "source": [
    "labels = ('Tbb1', 'Rbb1')\n",
    "units = ('K', r'$R_J$')\n",
    "\n",
    "npar = len(labels)"
   ]
  },
  {
   "cell_type": "markdown",
   "metadata": {},
   "source": [
    "Set the initial guesses and bounds accordingly. Note the requirement for a Jovian input radius."
   ]
  },
  {
   "cell_type": "code",
   "execution_count": 36,
   "metadata": {},
   "outputs": [],
   "source": [
    "ini_guess = (3200., 1.3) #K and R_Jup\n",
    "bounds = {'Tbb1':(2000,4000), \n",
    "          'Rbb1':(0.1,5)}"
   ]
  },
  {
   "cell_type": "markdown",
   "metadata": {},
   "source": [
    "Again, let's collate all model-related parameters into a dictionary:"
   ]
  },
  {
   "cell_type": "code",
   "execution_count": 37,
   "metadata": {},
   "outputs": [],
   "source": [
    "model_params={'grid_param_list':grid_list,\n",
    "              'labels':labels,\n",
    "              'initial_state':ini_guess,\n",
    "              'bounds':bounds}"
   ]
  },
  {
   "cell_type": "markdown",
   "metadata": {},
   "source": [
    "Now let's run the MCMC sampler (**Warning: the next cell may take a few minutes to complete**):"
   ]
  },
  {
   "cell_type": "code",
   "execution_count": null,
   "metadata": {},
   "outputs": [],
   "source": [
    "from special.mcmc_sampling import mcmc_spec_sampling\n",
    "\n",
    "res = mcmc_spec_sampling(lbda, spec, spec_err, d_st, dlbda_obs=dlbda, units_obs=units_obs,\n",
    "                         **instru_params, **mcmc_params, **conv_params, **model_params)"
   ]
  },
  {
   "cell_type": "markdown",
   "metadata": {},
   "source": [
    "Let's convert the sampled radii into Solar radii (if requested):"
   ]
  },
  {
   "cell_type": "code",
   "execution_count": null,
   "metadata": {},
   "outputs": [],
   "source": [
    "final_chain, ln_proba = res\n",
    "if star:\n",
    "    idx_R = labels.index('Rbb1')\n",
    "    final_chain[:,:,idx_R] = final_chain[:,:,idx_R].copy()*conv_RS\n",
    "    # change units of radius\n",
    "    units = list(units)\n",
    "    units[-1] = r'$R_{\\odot}$'\n",
    "    units = tuple(units)"
   ]
  },
  {
   "cell_type": "markdown",
   "metadata": {},
   "source": [
    "Let's inspect the walk plot:"
   ]
  },
  {
   "cell_type": "code",
   "execution_count": null,
   "metadata": {},
   "outputs": [],
   "source": [
    "from special.mcmc_sampling import show_walk_plot\n",
    "\n",
    "show_walk_plot(final_chain, labels)#, save=False,# output_dir='../datasets/',"
   ]
  },
  {
   "cell_type": "markdown",
   "metadata": {},
   "source": [
    "If you wish to save the walk plot in a pdf, set `save=True` and provide a value for the output directory (`output_dir`)."
   ]
  },
  {
   "cell_type": "markdown",
   "metadata": {},
   "source": [
    "Based on the walk plot, let's define a conservative burnin factor of 0.3 and apply it to the chain:"
   ]
  },
  {
   "cell_type": "code",
   "execution_count": null,
   "metadata": {},
   "outputs": [],
   "source": [
    "burnin=0.3"
   ]
  },
  {
   "cell_type": "code",
   "execution_count": null,
   "metadata": {},
   "outputs": [],
   "source": [
    "cutoff = int(final_chain.shape[1]//(1/burnin))\n",
    "ngood_steps = final_chain.shape[1]-cutoff\n",
    "samples_flat_BB = final_chain[:, cutoff:, :].reshape((-1,npar)) \n",
    "#write_fits(output_dir+\"isamples_flat.fits\",isamples_flat)"
   ]
  },
  {
   "cell_type": "markdown",
   "metadata": {},
   "source": [
    "Let's compute the 68.27% confidence intervals on the posterior distribution, after burnin:"
   ]
  },
  {
   "cell_type": "code",
   "execution_count": null,
   "metadata": {},
   "outputs": [],
   "source": [
    "from special.mcmc_sampling import confidence\n",
    "\n",
    "bins = 100\n",
    "vals, err = confidence(samples_flat_BB, labels, cfd=68.27, bins=bins, \n",
    "                            gaussian_fit=False, weights=None, \n",
    "                            verbose=True, save=False, bounds=bounds, \n",
    "                            priors=None)"
   ]
  },
  {
   "cell_type": "markdown",
   "metadata": {},
   "source": [
    "If you wish to save the results in a text file, set `save=True` and provide a value for the output directory (`output_dir`)."
   ]
  },
  {
   "cell_type": "markdown",
   "metadata": {},
   "source": [
    "Let's define the most likely parameters along with their uncertainties in a numpy array:"
   ]
  },
  {
   "cell_type": "code",
   "execution_count": null,
   "metadata": {},
   "outputs": [],
   "source": [
    "post_params = np.zeros([npar,3])\n",
    "for i in range(npar):\n",
    "    post_params[i,0] = vals[labels[i]]\n",
    "    post_params[i,1] = err[labels[i]][0]    \n",
    "    post_params[i,2] = err[labels[i]][1]"
   ]
  },
  {
   "cell_type": "markdown",
   "metadata": {},
   "source": [
    "Now, let's have a look at the corner plot. A couple of parameters can be fine tuned for aesthetics, e.g.:\n",
    "\n",
    "- number of significant digits for each parameter (`ndig`), \n",
    "- labels to be used in the plot for each parameter (`labels_plot` can be different to the string used in `labels` but `labels` is used if not provided), \n",
    "- font attributes for plot title and label, \n",
    "- number of bins to consider for the corner plot histograms."
   ]
  },
  {
   "cell_type": "code",
   "execution_count": null,
   "metadata": {},
   "outputs": [],
   "source": [
    "ndig = (0,2) # should have same length as labels\n",
    "labels_plot = (r'$T$', r'$R$')\n",
    "title_kwargs={\"fontsize\": 16}\n",
    "label_kwargs={\"fontsize\": 16}\n",
    "corner_bins = 20"
   ]
  },
  {
   "cell_type": "markdown",
   "metadata": {},
   "source": [
    "If you wish to save the corner plot in pdf format, set `save=True` and provide a value to `plot_name`."
   ]
  },
  {
   "cell_type": "code",
   "execution_count": null,
   "metadata": {},
   "outputs": [],
   "source": [
    "from special.mcmc_sampling import show_corner_plot\n",
    "\n",
    "#note: provide the chain before burnin, since burnin is done internally here:\n",
    "show_corner_plot(final_chain, burnin=burnin, save=False,  \n",
    "                      mcmc_res=post_params, units=units, ndig=ndig, labels_plot=labels_plot,\n",
    "                      labels=labels, #plot_name='corner_plot.pdf',\n",
    "                      title_kwargs=title_kwargs, label_kwargs=label_kwargs, bins=corner_bins)"
   ]
  },
  {
   "cell_type": "markdown",
   "metadata": {},
   "source": [
    "As expected, the 2 parameters are highly dependent on each other. With only 2 parameters, we also note that the estimated uncertainties on each parameter are very small. As we will see, with a more realistic model including more parameters, the uncertainties on each parameter get wider."
   ]
  },
  {
   "cell_type": "markdown",
   "metadata": {},
   "source": [
    "Let's save the likelihood and parameter values of the most likely model for later ([Sec. 5.2](#5.2.-Best-fit-models)):"
   ]
  },
  {
   "cell_type": "code",
   "execution_count": null,
   "metadata": {},
   "outputs": [],
   "source": [
    "# favoured model has highest likelihood\n",
    "max_prob_BB = np.nanmax(ln_proba)\n",
    "idx_max = np.unravel_index(np.nanargmax(ln_proba),shape=ln_proba.shape)\n",
    "bf_params_BB = final_chain[idx_max]\n",
    "bf_params_BB"
   ]
  },
  {
   "cell_type": "markdown",
   "metadata": {},
   "source": [
    "## 4.3. BT-SETTL model"
   ]
  },
  {
   "cell_type": "markdown",
   "metadata": {},
   "source": [
    "Let's now consider a grid of BT-SETTL models. In addition, let's also consider extinction as a free parameter, since for young objects it is possible that different amounts of dust surround the companion than the central star."
   ]
  },
  {
   "cell_type": "markdown",
   "metadata": {},
   "source": [
    "In the case of BT-SETTL models, there are 2 free parameters in the grid: effective temperature and surface gravity. Let's define the grid of parameter values covered by the models in our possession (in the `models/btsettl15/` directory)."
   ]
  },
  {
   "cell_type": "code",
   "execution_count": null,
   "metadata": {},
   "outputs": [],
   "source": [
    "teff_list = np.linspace(2000,4000,num=21).tolist()\n",
    "logg_list = np.linspace(2.5,5.5,num=7).tolist()\n",
    "grid_list = [teff_list, logg_list]"
   ]
  },
  {
   "cell_type": "markdown",
   "metadata": {},
   "source": [
    "Let's now define a snippet function that can read the input files of the grid, and provide as output a tuple of 2 vectors (1d arrays) for the wavelength and flux (in SI units, at the surface of the object). For convenience (and to allow for multiprocessing), it is defined in `utils.py`, and commented below FYI."
   ]
  },
  {
   "cell_type": "code",
   "execution_count": null,
   "metadata": {},
   "outputs": [],
   "source": [
    "from utils import bts_reader\n",
    "# def bts_reader(params):\n",
    "#     # snippet to read BT-SETTL fits files and return a tuple: lbda (mu), spec (SI)\n",
    "#     mod_units = 'cgs' # careful: input in cgs\n",
    "#     path = os.path.dirname(os.path.dirname(os.path.realpath(\"__file__\")))\n",
    "#     mod_path = path+'/static/btsettl15_models/'\n",
    "#     filename = mod_path+'btsettl15_t{:.0f}_g{:.1f}0_z-0.00_SPEX-PRISM.txt'.format(params[0],params[1])        \n",
    "#     lbda = []\n",
    "#     flux = []\n",
    "#     f=open(filename,\"r\")\n",
    "#     lines=f.readlines()\n",
    "#     for i, x in enumerate(lines):\n",
    "#         if i>0:\n",
    "#             lbda.append(float(x.split('\\t')[0]))\n",
    "#             flux.append(float(x.split('\\t')[1]))\n",
    "#     f.close() \n",
    "    \n",
    "#     # Correct for atmospheric refraction\n",
    "#     flux = np.array(flux) \n",
    "#     lbda = np.array(lbda)\n",
    "#     nref = nrefrac(lbda*1e4)\n",
    "#     lbda = lbda/(1+(nref*1e-6))\n",
    "    \n",
    "#     #conversion from ergs/s/cm2/um to W/m2/um\n",
    "#     flux = convert_F_units(flux, lbda, in_unit=mod_units, out_unit='si') \n",
    "    \n",
    "#     return lbda, flux"
   ]
  },
  {
   "cell_type": "markdown",
   "metadata": {},
   "source": [
    "Since the snippet function already performs the conversion to SI flux units (W m$^{-2}$), we will the model units to 'si'. Note that 'cgs' units or 'jy' are also accepted - the conversion to match the observed flux would then be made internally."
   ]
  },
  {
   "cell_type": "code",
   "execution_count": null,
   "metadata": {},
   "outputs": [],
   "source": [
    "units_mod = 'si'"
   ]
  },
  {
   "cell_type": "markdown",
   "metadata": {},
   "source": [
    "Considering also the extinction `A_V` as a free parameter, we have a total of 4 free parameters, including 2 captured by the grid:"
   ]
  },
  {
   "cell_type": "markdown",
   "metadata": {},
   "source": [
    "The 2 parameters are the temperature and radius (of a sphere). It is important to label the blackbody temperature and radius 'Tbb1' and 'Rbb1', respectively. This is because `special` allows for the addition of an unlimited number of blackbody components. E.g. for n components, set the labels from 'Tbb1' to 'Tbbn' and from 'Rbb1' to 'Rbbn'. "
   ]
  },
  {
   "cell_type": "code",
   "execution_count": null,
   "metadata": {},
   "outputs": [],
   "source": [
    "labels = ('Teff', 'logg', 'R', 'Av')\n",
    "units = ('K', '', r'$R_J$', 'mag')\n",
    "\n",
    "npar = len(labels)"
   ]
  },
  {
   "cell_type": "markdown",
   "metadata": {},
   "source": [
    "Set the initial guesses and bounds accordingly. Note the requirement for a Jovian input radius."
   ]
  },
  {
   "cell_type": "code",
   "execution_count": null,
   "metadata": {},
   "outputs": [],
   "source": [
    "ini_guess = (3100., 3.5, 1.3, 1.6)\n",
    "bounds = {'Teff':(2000,4000), \n",
    "          'logg':(2.5,5.5), \n",
    "          'R':(0.1,5), \n",
    "          'Av':(0.,5)}"
   ]
  },
  {
   "cell_type": "code",
   "execution_count": null,
   "metadata": {},
   "outputs": [],
   "source": [
    "model_params={'grid_param_list':grid_list,\n",
    "              'model_reader':bts_reader,\n",
    "              'labels':labels,\n",
    "              'initial_state':ini_guess,\n",
    "              'bounds':bounds,\n",
    "              'units_mod':units_mod}"
   ]
  },
  {
   "cell_type": "markdown",
   "metadata": {},
   "source": [
    "In order for the MCMC sampler to run faster, all models of the grid are first resampled (at the same sampling as the measured spectrum), such that only light spectra files are opened and interpolated during the sampling. To do so, set `resamp_before=True` and provide a path and name where the resampled grid will be saved:"
   ]
  },
  {
   "cell_type": "code",
   "execution_count": null,
   "metadata": {},
   "outputs": [],
   "source": [
    "grid_name = 'bts_resamp_grid.fits' \n",
    "output_dir = path+'/static/bts_output/'\n",
    "resamp_before=True"
   ]
  },
  {
   "cell_type": "markdown",
   "metadata": {},
   "source": [
    "**Important**: if a file named `output_dir`+`grid_name` already exists it will be used, instead of creating a new resmpled grid (this is to save time when a given MCMC sampling is performed multiple times with different options). Make sure to change either `output_dir` or `grid_name` when considering different models or a different range of parameter values in the grid (i.e. differente `grid_list`)."
   ]
  },
  {
   "cell_type": "markdown",
   "metadata": {},
   "source": [
    "We also set a filename where the MCMC results will be written as a pickle, such that they can be accessed without having to run again the MCMC."
   ]
  },
  {
   "cell_type": "code",
   "execution_count": null,
   "metadata": {},
   "outputs": [],
   "source": [
    "output_file = 'MCMC_results' # also written in output_dir\n",
    "\n",
    "output_params = {'resamp_before':resamp_before,\n",
    "                 'grid_name':grid_name,\n",
    "                 'output_dir': output_dir,\n",
    "                 'output_file': output_file}"
   ]
  },
  {
   "cell_type": "markdown",
   "metadata": {},
   "source": [
    "Now let's run the MCMC sampler (**Warning: the next cell may take a few minutes to complete**):"
   ]
  },
  {
   "cell_type": "code",
   "execution_count": null,
   "metadata": {},
   "outputs": [],
   "source": [
    "from special.mcmc_sampling import mcmc_spec_sampling\n",
    "\n",
    "res = mcmc_spec_sampling(lbda, spec, spec_err, d_st, dlbda_obs=dlbda, \n",
    "                                      **instru_params, **mcmc_params, **conv_params,\n",
    "                                      **model_params, **output_params)"
   ]
  },
  {
   "cell_type": "code",
   "execution_count": null,
   "metadata": {},
   "outputs": [],
   "source": [
    "final_chain, ln_proba = res\n",
    "if star:\n",
    "    idx_R = labels.index('R')\n",
    "    final_chain[:,:,idx_R] = final_chain[:,:,idx_R].copy()*conv_RS\n",
    "    # change units of radius\n",
    "    units = list(units)\n",
    "    units[-1] = r'$R_{\\odot}$'\n",
    "    units = tuple(units)"
   ]
  },
  {
   "cell_type": "markdown",
   "metadata": {},
   "source": [
    "Let's inspect the walk plot:"
   ]
  },
  {
   "cell_type": "code",
   "execution_count": null,
   "metadata": {},
   "outputs": [],
   "source": [
    "from special.mcmc_sampling import show_walk_plot\n",
    "\n",
    "show_walk_plot(final_chain, labels)#, save=False,# output_dir='../datasets/',"
   ]
  },
  {
   "cell_type": "markdown",
   "metadata": {},
   "source": [
    "If you wish to save the walk plot in a pdf, set `save=True` and provide a value for the output directory (`output_dir`)."
   ]
  },
  {
   "cell_type": "markdown",
   "metadata": {},
   "source": [
    "Based on the walk plot, let's define a conservative burnin factor of 0.3 and apply it to the chain:"
   ]
  },
  {
   "cell_type": "code",
   "execution_count": null,
   "metadata": {},
   "outputs": [],
   "source": [
    "burnin=0.3"
   ]
  },
  {
   "cell_type": "code",
   "execution_count": null,
   "metadata": {},
   "outputs": [],
   "source": [
    "cutoff = int(final_chain.shape[1]//(1/burnin))\n",
    "ngood_steps = final_chain.shape[1]-cutoff\n",
    "samples_flat_BTS = final_chain[:, cutoff:, :].reshape((-1,npar)) \n",
    "#write_fits(output_dir+\"isamples_flat.fits\",isamples_flat)"
   ]
  },
  {
   "cell_type": "markdown",
   "metadata": {},
   "source": [
    "Let's compute the 68.27% confidence intervals on the posterior distribution, after burnin:"
   ]
  },
  {
   "cell_type": "code",
   "execution_count": null,
   "metadata": {},
   "outputs": [],
   "source": [
    "from special.mcmc_sampling import confidence\n",
    "\n",
    "bins = 100\n",
    "vals, err = confidence(samples_flat_BTS, labels, cfd=68.27, bins=bins, \n",
    "                            gaussian_fit=False, weights=None, \n",
    "                            verbose=True, save=False, bounds=bounds, \n",
    "                            priors=None)"
   ]
  },
  {
   "cell_type": "markdown",
   "metadata": {},
   "source": [
    "If you wish to save the results in a text file, set `save=True` and provide a value for the output directory (`output_dir`)."
   ]
  },
  {
   "cell_type": "markdown",
   "metadata": {},
   "source": [
    "Let's define the most likely parameters along with their uncertainties in a numpy array:"
   ]
  },
  {
   "cell_type": "code",
   "execution_count": null,
   "metadata": {},
   "outputs": [],
   "source": [
    "post_params = np.zeros([npar,3])\n",
    "for i in range(npar):\n",
    "    post_params[i,0] = vals[labels[i]]\n",
    "    post_params[i,1] = err[labels[i]][0]    \n",
    "    post_params[i,2] = err[labels[i]][1]"
   ]
  },
  {
   "cell_type": "markdown",
   "metadata": {},
   "source": [
    "Now, let's have a look at the corner plot. A couple of parameters can be fine tuned for aesthetics, e.g.:\n",
    "\n",
    "- number of significant digits for each parameter (`ndig`), \n",
    "- labels to be used in the plot for each parameter (`labels_plot` can be different to the string used in `labels` but `labels` is used if not provided), \n",
    "- font attributes for plot title and label, \n",
    "- number of bins to consider for the corner plot histograms."
   ]
  },
  {
   "cell_type": "code",
   "execution_count": null,
   "metadata": {},
   "outputs": [],
   "source": [
    "ndig = (0,1,2,1) # should have same length as labels\n",
    "labels_plot = (r'$T$', r'log($g$)', r'$R$',  r'$A_V$')\n",
    "title_kwargs={\"fontsize\": 16}\n",
    "label_kwargs={\"fontsize\": 16}\n",
    "corner_bins = 20"
   ]
  },
  {
   "cell_type": "markdown",
   "metadata": {},
   "source": [
    "If you wish to save the corner plot in pdf format, set `save=True` and provide a value to `plot_name`."
   ]
  },
  {
   "cell_type": "code",
   "execution_count": null,
   "metadata": {},
   "outputs": [],
   "source": [
    "from special.mcmc_sampling import show_corner_plot\n",
    "\n",
    "#note: provide the chain before burnin, since burnin is done internally here:\n",
    "show_corner_plot(final_chain, burnin=burnin, save=False,  \n",
    "                      mcmc_res=post_params, units=units, ndig=ndig, labels_plot=labels_plot,\n",
    "                      labels=labels, #plot_name='corner_plot.pdf',\n",
    "                      title_kwargs=title_kwargs, label_kwargs=label_kwargs, bins=corner_bins)"
   ]
  },
  {
   "cell_type": "markdown",
   "metadata": {},
   "source": [
    "Let's save the likelihood and parameter values of the most likely model for later ([Sec. 5.2](#5.2.-Best-fit-models)):"
   ]
  },
  {
   "cell_type": "code",
   "execution_count": null,
   "metadata": {},
   "outputs": [],
   "source": [
    "# favoured model has highest likelihood\n",
    "max_prob_BTS = np.nanmax(ln_proba)\n",
    "idx_max = np.unravel_index(np.nanargmax(ln_proba),shape=ln_proba.shape)\n",
    "bf_params_BTS = final_chain[idx_max]\n",
    "bf_params_BTS"
   ]
  },
  {
   "cell_type": "markdown",
   "metadata": {},
   "source": [
    "The results above are puzzling: a ~3000 K effective temperature combined with a ~0.5 $R_J$ photometric radius. See Christiaens et al. (2021) for a discussion on the different hypotheses put forward to reconcile these results."
   ]
  },
  {
   "cell_type": "markdown",
   "metadata": {},
   "source": [
    "## 4.4. BT-SETTL + BB model"
   ]
  },
  {
   "cell_type": "markdown",
   "metadata": {},
   "source": [
    "Although this is not necessarily a good model for the NIR spectrum of CrA-9 B/b, let's illustrate how to set up a photospheric + extra blackbody component model to further showcase the possibilities available in `special`.\n",
    "\n",
    "Let's set Gaussian priors on the temperatures of each Blackbody component, to replicate the kinds of constraints that could potentially be obtained from past works.\n",
    "\n",
    "Note that a single extra BB component is considered here, but `special` does not limit the number of components you wish to incorporate in the model (just add the desired number of parameters 'Tbb*n*' and 'Rbb*n*', where *n*>0)."
   ]
  },
  {
   "cell_type": "markdown",
   "metadata": {},
   "source": [
    "This time, we have a total of 8 free parameters, including 2 captured by the BT-SETTL grid:"
   ]
  },
  {
   "cell_type": "code",
   "execution_count": null,
   "metadata": {},
   "outputs": [],
   "source": [
    "labels = ('Teff', 'logg', 'R', 'Av', 'Tbb1', 'Rbb1')\n",
    "units = ('K', '', r'$R_J$', 'mag', 'K', r'$R_J$')\n",
    "npar = len(labels)\n",
    "\n",
    "teff_list = np.linspace(2000,4000,num=21).tolist()\n",
    "logg_list = np.linspace(2.5,5.5,num=7).tolist()\n",
    "grid_list = [teff_list, logg_list]"
   ]
  },
  {
   "cell_type": "markdown",
   "metadata": {},
   "source": [
    "Set the initial guesses and bounds accordingly. Note the requirement for a Jovian input radius."
   ]
  },
  {
   "cell_type": "code",
   "execution_count": null,
   "metadata": {},
   "outputs": [],
   "source": [
    "ini_guess = (3100., 3.5, 1.3, 1.6, 1100, 1)\n",
    "bounds = {'Teff':(2000,4000), \n",
    "          'logg':(2.5,5.5), \n",
    "          'R':(0.1,5), \n",
    "          'Av':(0.,5),\n",
    "          'Tbb1':(900,2000),\n",
    "          'Rbb1':(0.1,5)}"
   ]
  },
  {
   "cell_type": "markdown",
   "metadata": {},
   "source": [
    "Let's set Gaussian priors for log($g$), $T_{bb1}$ and $T_{bb2}$ in a dictionary. By default, uniform priors are considered for parameters not mentioned in this dictionary. Be sure to use the same dictionary labels as for parameter `labels`."
   ]
  },
  {
   "cell_type": "code",
   "execution_count": null,
   "metadata": {},
   "outputs": [],
   "source": [
    "priors = {'logg':(3.5,0.2),\n",
    "          'Tbb1':(1200,200)}"
   ]
  },
  {
   "cell_type": "markdown",
   "metadata": {},
   "source": [
    "When including a blackbody component, you can ensure that the sampled solutions are physical (e.g. the BB temperatures must systematically be lower temperature than the photosphere effective temperature - assuming it comes from surrounding heated dust):"
   ]
  },
  {
   "cell_type": "code",
   "execution_count": null,
   "metadata": {},
   "outputs": [],
   "source": [
    "physical=True"
   ]
  },
  {
   "cell_type": "markdown",
   "metadata": {},
   "source": [
    "It is also possible to tell the model whether to apply the extinction before or after adding the blackbody component, depending on where the dust absorbing the companion signal is to be assumed with respect to the emitting dust. By default, we assume the latter (e.g. interstellar dust)."
   ]
  },
  {
   "cell_type": "code",
   "execution_count": null,
   "metadata": {},
   "outputs": [],
   "source": [
    "AV_bef_bb = False"
   ]
  },
  {
   "cell_type": "markdown",
   "metadata": {},
   "source": [
    "Let's compile all model-related parameters defined above into a dictionary:"
   ]
  },
  {
   "cell_type": "code",
   "execution_count": null,
   "metadata": {},
   "outputs": [],
   "source": [
    "model_params={'grid_param_list':grid_list,\n",
    "              'model_reader':bts_reader,\n",
    "              'labels':labels,\n",
    "              'initial_state':ini_guess,\n",
    "              'bounds':bounds,\n",
    "              'priors':priors,\n",
    "              'units_mod':units_mod,\n",
    "              'physical':physical,\n",
    "              'AV_bef_bb':AV_bef_bb}"
   ]
  },
  {
   "cell_type": "markdown",
   "metadata": {},
   "source": [
    "In order for the MCMC sampler to run faster, all models of the grid are first resampled (at the same sampling as the measured spectrum), such that only light spectra files are opened and interpolated during the sampling. To do so, set `resamp_before=True` and provide a path and name where the resampled grid will be saved:"
   ]
  },
  {
   "cell_type": "code",
   "execution_count": null,
   "metadata": {},
   "outputs": [],
   "source": [
    "grid_name = 'bts_bb_resamp_grid.fits' \n",
    "output_dir = path+'/static/bts_output/'\n",
    "resamp_before=True"
   ]
  },
  {
   "cell_type": "markdown",
   "metadata": {},
   "source": [
    "**Important**: if a file named `output_dir`+`grid_name` already exists it will be used, instead of creating a new resmpled grid (this is to save time when a given MCMC sampling is performed multiple times with different options). Make sure to change either `output_dir` or `grid_name` when considering different models or a different range of parameter values in the grid (i.e. different `grid_list`)."
   ]
  },
  {
   "cell_type": "markdown",
   "metadata": {},
   "source": [
    "We also set a filename where the MCMC results will be written as a pickle, such that they can be accessed without having to run again the MCMC."
   ]
  },
  {
   "cell_type": "code",
   "execution_count": null,
   "metadata": {},
   "outputs": [],
   "source": [
    "output_file = 'MCMC_results_bb' # also written in output_dir\n",
    "\n",
    "output_params = {'resamp_before':resamp_before,\n",
    "                 'grid_name':grid_name,\n",
    "                 'output_dir': output_dir,\n",
    "                 'output_file': output_file}"
   ]
  },
  {
   "cell_type": "markdown",
   "metadata": {},
   "source": [
    "Finally, given the larger number of parameters, let's increase the number of iterations and walkers:"
   ]
  },
  {
   "cell_type": "code",
   "execution_count": null,
   "metadata": {},
   "outputs": [],
   "source": [
    "a=2.0\n",
    "nwalkers=200\n",
    "niteration_min=100\n",
    "niteration_limit=1000 # recommended>> 1000\n",
    "nproc = 2             # number of CPUs\n",
    "\n",
    "mcmc_params = {'a':a,\n",
    "               'nwalkers':nwalkers,\n",
    "               'niteration_min':niteration_min,\n",
    "               'niteration_limit':niteration_limit,\n",
    "               'nproc':nproc}"
   ]
  },
  {
   "cell_type": "markdown",
   "metadata": {},
   "source": [
    "Now let's run the MCMC sampler (**Warning: the next cell may take a few minutes to complete**):"
   ]
  },
  {
   "cell_type": "code",
   "execution_count": null,
   "metadata": {},
   "outputs": [],
   "source": [
    "from special.mcmc_sampling import mcmc_spec_sampling\n",
    "\n",
    "res = mcmc_spec_sampling(lbda, spec, spec_err, d_st, dlbda_obs=dlbda, units_obs=units_obs,\n",
    "                                      **instru_params, **mcmc_params, **conv_params, **model_params, **output_params)"
   ]
  },
  {
   "cell_type": "code",
   "execution_count": null,
   "metadata": {},
   "outputs": [],
   "source": [
    "final_chain, ln_proba = res\n",
    "if star:\n",
    "    idx_R = labels.index('R')\n",
    "    final_chain[:,:,idx_R] = final_chain[:,:,idx_R].copy()*conv_RS\n",
    "    # change units of radius\n",
    "    units = list(units)\n",
    "    units[-1] = r'$R_{\\odot}$'\n",
    "    units = tuple(units)"
   ]
  },
  {
   "cell_type": "markdown",
   "metadata": {},
   "source": [
    "Let's inspect the walk plot:"
   ]
  },
  {
   "cell_type": "code",
   "execution_count": null,
   "metadata": {},
   "outputs": [],
   "source": [
    "from special.mcmc_sampling import show_walk_plot\n",
    "\n",
    "show_walk_plot(final_chain, labels)#, save=False,# output_dir='../datasets/',"
   ]
  },
  {
   "cell_type": "markdown",
   "metadata": {},
   "source": [
    "If you wish to save the walk plot in a pdf, set `save=True` and provide a value for the output directory (`output_dir`)."
   ]
  },
  {
   "cell_type": "markdown",
   "metadata": {},
   "source": [
    "Based on the walk plot, let's define a conservative burnin factor of 0.5 and apply it to the chain:"
   ]
  },
  {
   "cell_type": "code",
   "execution_count": null,
   "metadata": {},
   "outputs": [],
   "source": [
    "burnin=0.5"
   ]
  },
  {
   "cell_type": "code",
   "execution_count": null,
   "metadata": {},
   "outputs": [],
   "source": [
    "cutoff = int(final_chain.shape[1]//(1/burnin))\n",
    "ngood_steps = final_chain.shape[1]-cutoff\n",
    "samples_flat_BTS_BB = final_chain[:, cutoff:, :].reshape((-1,npar))"
   ]
  },
  {
   "cell_type": "markdown",
   "metadata": {},
   "source": [
    "Let's compute the 68.27% confidence intervals on the posterior distribution, after burnin:"
   ]
  },
  {
   "cell_type": "code",
   "execution_count": null,
   "metadata": {},
   "outputs": [],
   "source": [
    "from special.mcmc_sampling import confidence\n",
    "\n",
    "bins = 100\n",
    "vals, err = confidence(samples_flat_BTS_BB, labels, cfd=68.27, bins=bins, \n",
    "                            gaussian_fit=False, weights=None, \n",
    "                            verbose=True, save=False, bounds=bounds, \n",
    "                            priors=None)"
   ]
  },
  {
   "cell_type": "markdown",
   "metadata": {},
   "source": [
    "If you wish to save the results in a text file, set `save=True` and provide a value for the output directory (`output_dir`)."
   ]
  },
  {
   "cell_type": "markdown",
   "metadata": {},
   "source": [
    "Let's define the most likely parameters along with their uncertainties in a numpy array:"
   ]
  },
  {
   "cell_type": "code",
   "execution_count": null,
   "metadata": {},
   "outputs": [],
   "source": [
    "post_params = np.zeros([npar,3])\n",
    "for i in range(npar):\n",
    "    post_params[i,0] = vals[labels[i]]\n",
    "    post_params[i,1] = err[labels[i]][0]\n",
    "    post_params[i,2] = err[labels[i]][1]"
   ]
  },
  {
   "cell_type": "markdown",
   "metadata": {},
   "source": [
    "Now, let's have a look at the corner plot. A couple of parameters can be fine tuned for aesthetics, e.g.:\n",
    "\n",
    "- number of significant digits for each parameter (`ndig`), \n",
    "- labels to be used in the plot for each parameter (`labels_plot` can be different to the string used in `labels` but `labels` is used if not provided), \n",
    "- font attributes for plot title and label, \n",
    "- number of bins to consider for the corner plot histograms."
   ]
  },
  {
   "cell_type": "code",
   "execution_count": null,
   "metadata": {},
   "outputs": [],
   "source": [
    "ndig = (0,1,2,1,0,1) # should have same length as labels\n",
    "labels_plot = (r'$T$', r'log($g$)', r'$R$',  r'$A_V$', r'$T_{bb1}$',r'$R_{bb1}$')\n",
    "title_kwargs={\"fontsize\": 16}\n",
    "label_kwargs={\"fontsize\": 16}\n",
    "corner_bins = 20"
   ]
  },
  {
   "cell_type": "markdown",
   "metadata": {},
   "source": [
    "If you wish to save the corner plot in pdf format, set `save=True` and provide a value to `plot_name`."
   ]
  },
  {
   "cell_type": "code",
   "execution_count": null,
   "metadata": {},
   "outputs": [],
   "source": [
    "from special.mcmc_sampling import show_corner_plot\n",
    "\n",
    "#note: provide the chain before burnin, since burnin is done internally here:\n",
    "show_corner_plot(final_chain, burnin=burnin, save=False,  \n",
    "                      mcmc_res=post_params, units=units, ndig=ndig, labels_plot=labels_plot,\n",
    "                      labels=labels, #plot_name='corner_plot.pdf',\n",
    "                      title_kwargs=title_kwargs, label_kwargs=label_kwargs, bins=corner_bins)"
   ]
  },
  {
   "cell_type": "markdown",
   "metadata": {},
   "source": [
    "Let's save the likelihood and parameter values of the most likely model for later ([Sec. 5.2](#5.2.-Best-fit-models)):"
   ]
  },
  {
   "cell_type": "code",
   "execution_count": null,
   "metadata": {},
   "outputs": [],
   "source": [
    "# favoured model has highest likelihood\n",
    "max_prob_BTS_BB = np.nanmax(ln_proba)\n",
    "idx_max = np.unravel_index(np.nanargmax(ln_proba),shape=ln_proba.shape)\n",
    "bf_params_BTS_BB = final_chain[idx_max]\n",
    "bf_params_BTS_BB"
   ]
  },
  {
   "cell_type": "markdown",
   "metadata": {},
   "source": [
    "## 4.5. BT-SETTL model + BrG line model"
   ]
  },
  {
   "cell_type": "markdown",
   "metadata": {},
   "source": [
    "In order to further showcase the possibilities available in `special`, let's now consider a BT-SETTL + Brackett Gamma line model for the spectrum. Let's also consider $R_V$ as a free parameter, and finally consider Gaussian priors for log($g$) and $R_V$: $\\mu_{\\mathrm{log}(g)}=3.5$, $\\sigma_{\\mathrm{log}(g)} = 0.2$ and $\\mu_{R_V}=3.1$, $\\sigma_{R_V} = 0.2$.  "
   ]
  },
  {
   "cell_type": "markdown",
   "metadata": {},
   "source": [
    "This time, we have a total of 6 free parameters, including 2 captured by the BT-SETTL grid:"
   ]
  },
  {
   "cell_type": "code",
   "execution_count": null,
   "metadata": {},
   "outputs": [],
   "source": [
    "labels = ('Teff', 'logg', 'R', 'Av', 'Rv', 'BrG')\n",
    "units = ('K', '', r'$R_J$', 'mag', '', '')\n",
    "npar = len(labels)\n",
    "\n",
    "teff_list = np.linspace(2000,4000,num=21).tolist()\n",
    "logg_list = np.linspace(2.5,5.5,num=7).tolist()\n",
    "grid_list = [teff_list, logg_list]"
   ]
  },
  {
   "cell_type": "markdown",
   "metadata": {},
   "source": [
    "Provide estimate for BrG flux:"
   ]
  },
  {
   "cell_type": "code",
   "execution_count": null,
   "metadata": {},
   "outputs": [],
   "source": [
    "import astropy.constants as con\n",
    "F_BrG_estimate = 20000 # W m-2 at the surface (based on the estimate for the primary)\n",
    "RB_est = 5             # rough estimate for the radius of the companion in R_J\n",
    "input_unit = 'LogL'    # select input units {'F','L','LogL'} for Flux (W/m2), Luminosity (W) or Log Solar Luminosity."
   ]
  },
  {
   "cell_type": "markdown",
   "metadata": {},
   "source": [
    "Conversion of F_BrG into LSun - do not change:"
   ]
  },
  {
   "cell_type": "code",
   "execution_count": null,
   "metadata": {},
   "outputs": [],
   "source": [
    "if input_unit == 'F':\n",
    "    BrG_min = F_BrG_estimate*1e-5\n",
    "    BrG_max = F_BrG_estimate*1e5  \n",
    "elif input_unit == 'LogL':\n",
    "    # BrG flux is converted below into L_Sun\n",
    "    L_BrG_estimate = np.log10(4*np.pi*np.power(con.R_jup.value*RB_est,2)*F_BrG_estimate/con.L_sun.value)\n",
    "    # set min and max of BrG list of initial grid of tested values\n",
    "    BrG_min = L_BrG_estimate-5\n",
    "    BrG_max = L_BrG_estimate+5\n",
    "else:\n",
    "    BrG_min = F_BrG_estimate*1e-5*4*np.pi*np.power(con.R_jup.value*RB_est,2)\n",
    "    BrG_max = F_BrG_estimate*1e5*4*np.pi*np.power(con.R_jup.value*RB_est,2)     "
   ]
  },
  {
   "cell_type": "markdown",
   "metadata": {},
   "source": [
    "Set the initial guesses and bounds accordingly. Note the requirement for a Jovian input radius."
   ]
  },
  {
   "cell_type": "code",
   "execution_count": null,
   "metadata": {},
   "outputs": [],
   "source": [
    "# define list of BrG line luminosities\n",
    "n_BrG_list = 23 # desired number of points in grid\n",
    "BrG_list = np.linspace(L_BrG_estimate-5, L_BrG_estimate+5, n_BrG_list)\n",
    "# during MCMC, sampled values will be interpolated from the grid defined above for faster calculation.\n",
    "\n",
    "ini_guess = (3100., 3.5, 1.3, 1.6, 3.1, np.median(BrG_list))\n",
    "bounds = {'Teff':(2000,4000), \n",
    "          'logg':(2.5,5.5), \n",
    "          'R':(0.1,5), \n",
    "          'Av':(0.,5),\n",
    "          'Rv':(1.,6),\n",
    "          'BrG': (L_BrG_estimate-5,L_BrG_estimate+5)}"
   ]
  },
  {
   "cell_type": "markdown",
   "metadata": {},
   "source": [
    "Provide details for each of the line(s). Add an entry in the `em_lines` and `em_grid` dictionaries for each line you'd like to include in the model. Lines can be included in the model without necessarily fitting for their flux with MCMC (e.g. for a known emission line luminosity to be included in the model):"
   ]
  },
  {
   "cell_type": "code",
   "execution_count": null,
   "metadata": {},
   "outputs": [],
   "source": [
    "em_lines = {}\n",
    "em_lines['BrG'] = (2.1667, input_unit, None) # WL, unit and flux (if known). Flux can be None if to be sampled by MCMC.\n",
    "\n",
    "em_grid = {}\n",
    "em_grid['BrG'] = BrG_list.copy()"
   ]
  },
  {
   "cell_type": "markdown",
   "metadata": {},
   "source": [
    "Let's set Gaussian priors for $R_V$ in a dictionary. By default, uniform priors are considered for parameters not mentioned in this dictionary. Be sure to use the same dictionary labels as for parameter `labels`."
   ]
  },
  {
   "cell_type": "code",
   "execution_count": null,
   "metadata": {},
   "outputs": [],
   "source": [
    "priors = {'logg':(3.5,0.2),\n",
    "          'Rv':(3.1,0.2)}"
   ]
  },
  {
   "cell_type": "markdown",
   "metadata": {},
   "source": [
    "Let's compile all model-related parameters defined above into a dictionary:"
   ]
  },
  {
   "cell_type": "code",
   "execution_count": null,
   "metadata": {},
   "outputs": [],
   "source": [
    "model_params={'grid_param_list':grid_list,\n",
    "              'model_reader':bts_reader,\n",
    "              'labels':labels,\n",
    "              'initial_state':ini_guess,\n",
    "              'bounds':bounds,\n",
    "              'em_lines':em_lines,\n",
    "              'em_grid':em_grid,\n",
    "              'priors':priors,\n",
    "              'units_mod':units_mod}"
   ]
  },
  {
   "cell_type": "markdown",
   "metadata": {},
   "source": [
    "In order for the MCMC sampler to run faster, all models of the grid are first resampled (at the same sampling as the measured spectrum), such that only light spectra files are opened and interpolated during the sampling. To do so, set `resamp_before=True` and provide a path and name where the resampled grid will be saved:"
   ]
  },
  {
   "cell_type": "code",
   "execution_count": null,
   "metadata": {},
   "outputs": [],
   "source": [
    "grid_name = 'bts_BrG_resamp_grid.fits' \n",
    "output_dir = path + '/static/bts_output/'\n",
    "resamp_before = True"
   ]
  },
  {
   "cell_type": "markdown",
   "metadata": {},
   "source": [
    "**Important**: if a file named `output_dir`+`grid_name` already exists it will be used, instead of creating a new resmpled grid (this is to save time when a given MCMC sampling is performed multiple times with different options). Make sure to change either `output_dir` or `grid_name` when considering different models or a different range of parameter values in the grid (i.e. different `grid_list`)."
   ]
  },
  {
   "cell_type": "markdown",
   "metadata": {},
   "source": [
    "We also set a filename where the MCMC results will be written as a pickle, such that they can be accessed without having to run again the MCMC."
   ]
  },
  {
   "cell_type": "code",
   "execution_count": null,
   "metadata": {},
   "outputs": [],
   "source": [
    "output_file = 'MCMC_results_BrG' # also written in output_dir\n",
    "\n",
    "output_params = {'resamp_before':resamp_before,\n",
    "                 'grid_name':grid_name,\n",
    "                 'output_dir': output_dir,\n",
    "                 'output_file': output_file}"
   ]
  },
  {
   "cell_type": "markdown",
   "metadata": {},
   "source": [
    "Finally, given the larger number of parameters, let's increase the number of iterations and walkers:"
   ]
  },
  {
   "cell_type": "code",
   "execution_count": null,
   "metadata": {},
   "outputs": [],
   "source": [
    "a=2.0\n",
    "nwalkers=250\n",
    "niteration_min=100\n",
    "niteration_limit=1500 # recommended>> 1000\n",
    "nproc = 2             # number of CPUs\n",
    "\n",
    "mcmc_params = {'a':a,\n",
    "               'nwalkers':nwalkers,\n",
    "               'niteration_min':niteration_min,\n",
    "               'niteration_limit':niteration_limit,\n",
    "               'nproc':nproc}"
   ]
  },
  {
   "cell_type": "markdown",
   "metadata": {},
   "source": [
    "Now let's run the MCMC sampler (**Warning: the next cell may take a few minutes to complete**):"
   ]
  },
  {
   "cell_type": "code",
   "execution_count": null,
   "metadata": {},
   "outputs": [],
   "source": [
    "from special.mcmc_sampling import mcmc_spec_sampling\n",
    "\n",
    "res = mcmc_spec_sampling(lbda, spec, spec_err, d_st, dlbda_obs=dlbda, **instru_params, \n",
    "                         **mcmc_params, **conv_params, **model_params, **output_params)"
   ]
  },
  {
   "cell_type": "code",
   "execution_count": null,
   "metadata": {},
   "outputs": [],
   "source": [
    "final_chain, ln_proba = res\n",
    "if star:\n",
    "    idx_R = labels.index('R')\n",
    "    final_chain[:,:,idx_R] = final_chain[:,:,idx_R].copy()*conv_RS\n",
    "    # change units of radius\n",
    "    units = list(units)\n",
    "    units[-1] = r'$R_{\\odot}$'\n",
    "    units = tuple(units)"
   ]
  },
  {
   "cell_type": "markdown",
   "metadata": {},
   "source": [
    "Let's inspect the walk plot:"
   ]
  },
  {
   "cell_type": "code",
   "execution_count": null,
   "metadata": {},
   "outputs": [],
   "source": [
    "from special.mcmc_sampling import show_walk_plot\n",
    "\n",
    "show_walk_plot(final_chain, labels)#, save=False,# output_dir='../datasets/',"
   ]
  },
  {
   "cell_type": "markdown",
   "metadata": {},
   "source": [
    "If you wish to save the walk plot in a pdf, set `save=True` and provide a value for the output directory (`output_dir`)."
   ]
  },
  {
   "cell_type": "markdown",
   "metadata": {},
   "source": [
    "Based on the walk plot, let's define a conservative burnin factor of 0.5 and apply it to the chain:"
   ]
  },
  {
   "cell_type": "code",
   "execution_count": null,
   "metadata": {},
   "outputs": [],
   "source": [
    "burnin=0.5"
   ]
  },
  {
   "cell_type": "code",
   "execution_count": null,
   "metadata": {},
   "outputs": [],
   "source": [
    "cutoff = int(final_chain.shape[1]//(1/burnin))\n",
    "ngood_steps = final_chain.shape[1]-cutoff\n",
    "samples_flat_BrG = final_chain[:, cutoff:, :].reshape((-1,npar)) "
   ]
  },
  {
   "cell_type": "markdown",
   "metadata": {},
   "source": [
    "Let's compute the 68.27% confidence intervals on the posterior distribution, after burnin:"
   ]
  },
  {
   "cell_type": "code",
   "execution_count": null,
   "metadata": {},
   "outputs": [],
   "source": [
    "from special.mcmc_sampling import confidence\n",
    "\n",
    "bins = 100\n",
    "vals, err = confidence(samples_flat_BrG, labels, cfd=68.27, bins=bins, gaussian_fit=False, weights=None, \n",
    "                            verbose=True, save=False, bounds=bounds, priors=None)"
   ]
  },
  {
   "cell_type": "markdown",
   "metadata": {},
   "source": [
    "If you wish to save the results in a text file, set `save=True` and provide a value for the output directory (`output_dir`)."
   ]
  },
  {
   "cell_type": "markdown",
   "metadata": {},
   "source": [
    "Let's define the most likely parameters along with their uncertainties in a numpy array:"
   ]
  },
  {
   "cell_type": "code",
   "execution_count": null,
   "metadata": {},
   "outputs": [],
   "source": [
    "post_params = np.zeros([npar,3])\n",
    "for i in range(npar):\n",
    "    post_params[i,0] = vals[labels[i]]\n",
    "    post_params[i,1] = err[labels[i]][0]    \n",
    "    post_params[i,2] = err[labels[i]][1]"
   ]
  },
  {
   "cell_type": "markdown",
   "metadata": {},
   "source": [
    "Now, let's have a look at the corner plot. A couple of parameters can be fine tuned for aesthetics, e.g.:\n",
    "\n",
    "- number of significant digits for each parameter (`ndig`), \n",
    "- labels to be used in the plot for each parameter (`labels_plot` can be different to the string used in `labels` but `labels` is used if not provided), \n",
    "- font attributes for plot title and label, \n",
    "- number of bins to consider for the corner plot histograms."
   ]
  },
  {
   "cell_type": "code",
   "execution_count": null,
   "metadata": {},
   "outputs": [],
   "source": [
    "ndig = (0,1,2,1,1,1) # should have same length as labels\n",
    "labels_plot = (r'$T$', r'log($g$)', r'$R$',  r'$A_V$',  r'$R_V$', r\"$\\log(\\frac{L_{\\rm BrG}}{L_{\\odot}})$\")\n",
    "title_kwargs={\"fontsize\": 16}\n",
    "label_kwargs={\"fontsize\": 16}\n",
    "corner_bins = 20"
   ]
  },
  {
   "cell_type": "markdown",
   "metadata": {},
   "source": [
    "If you wish to save the corner plot in pdf format, set `save=True` and provide a value to `plot_name`."
   ]
  },
  {
   "cell_type": "code",
   "execution_count": null,
   "metadata": {},
   "outputs": [],
   "source": [
    "from special.mcmc_sampling import show_corner_plot\n",
    "\n",
    "#note: provide the chain before burnin, since burnin is done internally here:\n",
    "show_corner_plot(final_chain, burnin=burnin, save=False,  \n",
    "                      mcmc_res=post_params, units=units, ndig=ndig, labels_plot=labels_plot,\n",
    "                      labels=labels, #plot_name='corner_plot.pdf',\n",
    "                      title_kwargs=title_kwargs, label_kwargs=label_kwargs, bins=corner_bins)"
   ]
  },
  {
   "cell_type": "markdown",
   "metadata": {},
   "source": [
    "Compared to the results obtained without the inclusion of a potential BrG line (affecting the K1 photometry of the point source), we now get a lower value of log(g), more consistent with a young object. Nonetheless, the required BrG line luminosity is significant. This would likely imply the presence of more H recombination lines - which may or may not be present near ~1.09 and ~1.22 $\\mu$m (see below)."
   ]
  },
  {
   "cell_type": "code",
   "execution_count": null,
   "metadata": {},
   "outputs": [],
   "source": [
    "fig = plt.figure(figsize=figsize)\n",
    "plt.errorbar(lbda[:-3], lbda[:-3]*spec[:-3], lbda[:-3]*spec_err[:-3], dlbda[:-3], 'bo', \n",
    "             label = 'SPHERE/IFS (YJH)')\n",
    "plt.xlabel(r\"Wavelength ($\\mu$m)\")\n",
    "plt.ylabel(r\"Flux (W/m$^2$)\")\n",
    "plt.legend()"
   ]
  },
  {
   "cell_type": "markdown",
   "metadata": {},
   "source": [
    "Let's save the likelihood and parameter values of the most likely model for later ([Sec. 5.2](#5.2.-Best-fit-models)):"
   ]
  },
  {
   "cell_type": "code",
   "execution_count": null,
   "metadata": {},
   "outputs": [],
   "source": [
    "# favoured model has highest likelihood\n",
    "max_prob_BTS_BrG = np.nanmax(ln_proba)\n",
    "idx_max = np.unravel_index(np.nanargmax(ln_proba),shape=ln_proba.shape)\n",
    "bf_params_BTS_BrG = final_chain[idx_max]\n",
    "bf_params_BTS_BrG"
   ]
  },
  {
   "cell_type": "markdown",
   "metadata": {},
   "source": [
    "[Go to the top](#Table-of-contents)"
   ]
  },
  {
   "cell_type": "markdown",
   "metadata": {},
   "source": [
    "# 5. Comparison of results"
   ]
  },
  {
   "cell_type": "markdown",
   "metadata": {},
   "source": [
    "## 5.1. Akaike Information Criterion"
   ]
  },
  {
   "cell_type": "markdown",
   "metadata": {},
   "source": [
    "For each of the tested type of model above (Secs. 4.2 to 4.5), let's compute the Akaike Information Criterion (AIC) in order to assess which one is likely the best model for our observations. The 4 tested models are:\n",
    "\n",
    "- Blackbody (2 parameters);\n",
    "- BT-SETTL + extinction (4 parameters);\n",
    "- BT-SETTL + 2BB + extinction (8 parameters); \n",
    "- BT-SETTL + BrG + extinction (6 parameters)"
   ]
  },
  {
   "cell_type": "markdown",
   "metadata": {},
   "source": [
    "For each type of model, we need the maximum likelihood model among all MCMC samples, and the number of free parameters."
   ]
  },
  {
   "cell_type": "code",
   "execution_count": null,
   "metadata": {},
   "outputs": [],
   "source": [
    "nparam_list = [2, 4, 6, 6]\n",
    "max_prob_list = [max_prob_BB, max_prob_BTS, max_prob_BTS_BB, max_prob_BTS_BrG]\n",
    "\n",
    "n_models = len(nparam_list)"
   ]
  },
  {
   "cell_type": "code",
   "execution_count": null,
   "metadata": {},
   "outputs": [],
   "source": [
    "from special.utils_spec import akaike\n",
    "\n",
    "aic_list = [akaike(max_prob_list[i],nparam_list[i]) for i in range(n_models)]\n",
    "aic_list"
   ]
  },
  {
   "cell_type": "markdown",
   "metadata": {},
   "source": [
    "Now let's compute the $\\Delta$ AIC, i.e. the difference with the smallest AIC value obtained for the different models:\n"
   ]
  },
  {
   "cell_type": "code",
   "execution_count": null,
   "metadata": {},
   "outputs": [],
   "source": [
    "min_aic = np.amin(aic_list)\n",
    "\n",
    "daic_list = [aic_list[i]-min_aic for i in range(n_models)]\n",
    "daic_list"
   ]
  },
  {
   "cell_type": "markdown",
   "metadata": {},
   "source": [
    "The values above suggest that the most likely types of model that we considered are the BT-SETTL alone, the BT-SETTL+BB and BT-SETTL+BrG line models.\n",
    "\n",
    "Since the difference is >>10 for the BB model, we can conclude that there is no support for that kind of model (Burnham & Anderson 2002)."
   ]
  },
  {
   "cell_type": "markdown",
   "metadata": {},
   "source": [
    "[Go to the top](#Table-of-contents)"
   ]
  },
  {
   "cell_type": "markdown",
   "metadata": {},
   "source": [
    "## 5.2. Best-fit models"
   ]
  },
  {
   "cell_type": "markdown",
   "metadata": {},
   "source": [
    "Let's first assemble all the relevant parameters from the different models considered above in different lists:"
   ]
  },
  {
   "cell_type": "code",
   "execution_count": null,
   "metadata": {},
   "outputs": [],
   "source": [
    "lab_models = ['BB', 'BT-SETTL', 'BT-SETTL + BB', 'BT-SETTL + BrG line']\n",
    "bf_params = [bf_params_BB, bf_params_BTS, bf_params_BTS_BB, bf_params_BTS_BrG]\n",
    "all_samples_flat = [samples_flat_BB, samples_flat_BTS, samples_flat_BTS_BB, samples_flat_BrG]\n",
    "all_labels = [('Tbb1', 'Rbb1'),\n",
    "              ('Teff', 'logg', 'R', 'Av'),\n",
    "              ('Teff', 'logg', 'R', 'Av', 'Tbb1', 'Rbb1'),\n",
    "              ('Teff', 'logg', 'R', 'Av', 'Rv', 'BrG')]\n",
    "all_grid_lists = [None, grid_list, grid_list, grid_list]\n",
    "all_em_lines = [{}, {}, {}, em_lines]\n",
    "all_em_grids = [{}, {}, {}, em_grid]\n",
    "all_ndig = [(0,2),\n",
    "            (0,1,2,1),\n",
    "            (0,1,2,1,0,1),\n",
    "            (0,1,2,1,1,1)]\n",
    "all_units = [('K', r'$R_J$'),\n",
    "             ('K', '', r'$R_J$', 'mag'),\n",
    "             ('K', '', r'$R_J$', 'mag', 'K', r'$R_J$'),\n",
    "             ('K', '', r'$R_J$', 'mag', '', '')]\n",
    "\n",
    "n_models = len(lab_models)"
   ]
  },
  {
   "cell_type": "code",
   "execution_count": null,
   "metadata": {},
   "outputs": [],
   "source": [
    "bf_params"
   ]
  },
  {
   "cell_type": "markdown",
   "metadata": {},
   "source": [
    "Now for each type of model considered above, let's now generate the spectrum corresponding to the most likely parameters inferred with the MCMC. \n",
    "By providing `lbda_obs` to `make_model_from_params`, the returned model will be resampled to match the spectral resolution of the measured spectrum. If provided, the instrumental spectral FWHM and/or photometric filter(s) will also be used. If `lbda_obs` is left to None, the model is returned at the native resolution of the grid used as input. Let's leverage this to have both high-res and resampled spectra."
   ]
  },
  {
   "cell_type": "code",
   "execution_count": null,
   "metadata": {},
   "outputs": [],
   "source": [
    "from special.model_resampling import make_model_from_params\n",
    "\n",
    "bf_models = []\n",
    "bf_models_hr = []\n",
    "\n",
    "for nn in range(n_models):\n",
    "    bf_params_nn = tuple(bf_params[nn])\n",
    "    lbda_model, flux_model = make_model_from_params(bf_params_nn, \n",
    "                                                    all_labels[nn], \n",
    "                                                    all_grid_lists[nn], \n",
    "                                                    d_st, \n",
    "                                                    model_reader=bts_reader, \n",
    "                                                    em_lines=all_em_lines[nn], \n",
    "                                                    em_grid=all_em_grids[nn], \n",
    "                                                    units_obs=units_obs, \n",
    "                                                    units_mod=units_mod, \n",
    "                                                    interp_order=1,\n",
    "                                                    lbda_obs=lbda,\n",
    "                                                    dlbda_obs=dlbda,\n",
    "                                                    instru_res=instru_res, \n",
    "                                                    instru_idx=instru_idx, \n",
    "                                                    filter_reader=filter_reader)\n",
    "    bf_models.append([lbda_model, flux_model])\n",
    "    if nn > 0:\n",
    "        lbda_model_hr, flux_model_hr = make_model_from_params(bf_params_nn, \n",
    "                                                              all_labels[nn], \n",
    "                                                              all_grid_lists[nn], \n",
    "                                                              d_st, \n",
    "                                                              model_reader=bts_reader, \n",
    "                                                              em_lines=all_em_lines[nn], \n",
    "                                                              em_grid=all_em_grids[nn], \n",
    "                                                              units_obs=units_obs, \n",
    "                                                              units_mod=units_mod, \n",
    "                                                              interp_order=1)\n",
    "        bf_models_hr.append([lbda_model_hr, flux_model_hr])"
   ]
  },
  {
   "cell_type": "markdown",
   "metadata": {},
   "source": [
    "For models not based on a grid, `lbda_obs` is a mandatory parameter, hence the avoidance of the BB model for high-res models. Let's use the output `lbda_model_hr` from BT-SETTL models, to add a high-res spectrum for the BB model as well."
   ]
  },
  {
   "cell_type": "code",
   "execution_count": null,
   "metadata": {},
   "outputs": [],
   "source": [
    "lbda_model_hr, flux_model_hr = make_model_from_params(tuple(bf_params[0]), \n",
    "                                                      all_labels[0], \n",
    "                                                      all_grid_lists[0], \n",
    "                                                      d_st, \n",
    "                                                      model_reader=bts_reader, \n",
    "                                                      em_lines=all_em_lines[0], \n",
    "                                                      em_grid=all_em_grids[0], \n",
    "                                                      units_obs=units_obs, \n",
    "                                                      units_mod=units_mod, \n",
    "                                                      interp_order=1,\n",
    "                                                      lbda_obs=bf_models_hr[-1][0])\n",
    "bf_models_hr = [[lbda_model_hr, flux_model_hr]]+bf_models_hr"
   ]
  },
  {
   "cell_type": "markdown",
   "metadata": {},
   "source": [
    "Now crop the model spectra to the same wavelength range as the measured spectrum:"
   ]
  },
  {
   "cell_type": "code",
   "execution_count": null,
   "metadata": {},
   "outputs": [],
   "source": [
    "from special.utils_spec import find_nearest\n",
    "\n",
    "for nn in range(n_models):\n",
    "    lbda_model_hr, flux_model_hr = bf_models_hr[nn]\n",
    "    # LOAD BEST FIT MODEL\n",
    "    idx_ini = find_nearest(lbda_model_hr,0.99*lbda[0], constraint='floor')\n",
    "    idx_fin = find_nearest(lbda_model_hr,1.01*lbda[-1], constraint='ceil')\n",
    "    lbda_model_hr = lbda_model_hr[idx_ini:idx_fin+1]\n",
    "    flux_model_hr = flux_model_hr[idx_ini:idx_fin+1]\n",
    "    dlbda_hr = np.mean(lbda_model_hr[1:]-lbda_model_hr[:-1])\n",
    "    bf_models_hr[nn] = [lbda_model_hr, flux_model_hr]"
   ]
  },
  {
   "cell_type": "markdown",
   "metadata": {},
   "source": [
    "Now let's plot the best-fit models at their native resolution (first panel) and after resampling (second panel):"
   ]
  },
  {
   "cell_type": "code",
   "execution_count": null,
   "metadata": {},
   "outputs": [],
   "source": [
    "fig, axes = plt.subplots(2,1,figsize=(11,12))\n",
    "\n",
    "# plot options\n",
    "cols = ['k', 'r', 'b', 'c', 'y', 'm'] # colors of different models\n",
    "maj_tick_sp = 0.5 # WL spacing for major ticks\n",
    "min_tick_sp = maj_tick_sp / 5. # WL spacing for minor ticks\n",
    "\n",
    "# Titles\n",
    "axes[0].set_title(\"Best-fit models (original resolution)\")\n",
    "axes[1].set_title(\"Best-fit models (resampled)\")\n",
    "\n",
    "# Plot measured spectrum\n",
    "axes[0].errorbar(lbda, lbda*spec, \n",
    "             lbda*spec_err, fmt=cols[0]+'o', \n",
    "             label='Measured spectrum')\n",
    "axes[1].errorbar(lbda, lbda*spec, \n",
    "             lbda*spec_err, fmt=cols[0]+'o', \n",
    "             label='Measured spectrum')\n",
    "\n",
    "# Set axes labels\n",
    "axes[0].set_xlabel(r\"Wavelength ($\\mu$m)\")\n",
    "axes[0].set_ylabel(r\"$\\lambda F_{\\lambda}$ (W m$^{-2} \\mu$m$^{-1}$)\")\n",
    "axes[1].set_xlabel(r\"Wavelength ($\\mu$m)\")\n",
    "axes[1].set_ylabel(r\"$\\lambda F_{\\lambda}$ (W m$^{-2} \\mu$m$^{-1}$)\")\n",
    "\n",
    "# Plot best-fit models\n",
    "for i in range(2):\n",
    "    if i == 0:\n",
    "        bf_models_i = bf_models_hr\n",
    "    else:\n",
    "        bf_models_i = bf_models\n",
    "    for nn in range(n_models):\n",
    "        lbda_model, flux_model = bf_models_i[nn]\n",
    "\n",
    "        lab_str = '{0} = {1:.{2}f} {3}'\n",
    "        if nn==0 or nn ==1:\n",
    "            show_labs = range(len(bf_params[nn]))\n",
    "        elif nn==2:\n",
    "            show_labs = range(len(bf_params[nn])-1)\n",
    "        else:\n",
    "            show_labs = list(range(len(bf_params[nn])-2))\n",
    "        lab_str_list = [lab_str.format(all_labels[nn][j], bf_params[nn][j], all_ndig[nn][j], all_units[nn][j]) for j in show_labs]\n",
    "        sep = ', '\n",
    "        label = \"{} model: {}\".format(lab_models[nn], sep.join(lab_str_list))\n",
    "        axes[i].plot(lbda_model, lbda_model*flux_model, cols[1+nn], linewidth=2,\n",
    "                 alpha=0.5, label=label)\n",
    "\n",
    "        min_tick = lbda[0]-dlbda[0]/2-((lbda[0]-dlbda[0]/2)%0.2)\n",
    "        max_tick = lbda[-1]+dlbda[-1]/2+(0.2-((lbda[-1]+dlbda[-1]/2)%0.2))\n",
    "        major_ticks1 = np.arange(min_tick,max_tick,maj_tick_sp)\n",
    "        minor_ticks1 = np.arange(min_tick,max_tick,min_tick_sp)\n",
    "\n",
    "        axes[i].set_xticks(major_ticks1)\n",
    "        axes[i].set_xticks(minor_ticks1, minor = True)\n",
    "        axes[i].tick_params(which = 'both', direction = 'in')\n",
    "        axes[i].legend(loc='best')    \n",
    "\n",
    "plt.show()"
   ]
  },
  {
   "cell_type": "markdown",
   "metadata": {},
   "source": [
    "[Go to the top](#Table-of-contents)"
   ]
  },
  {
   "cell_type": "markdown",
   "metadata": {},
   "source": [
    "## 5.3. Models from the posterior distribution"
   ]
  },
  {
   "cell_type": "markdown",
   "metadata": {},
   "source": [
    "It can be useful to plot a large number of models randomly picked from the posterior distribution in order to have an idea of the uncertainty in different parts of the spectrum. Let's consider 200 samples from the posterior distribution:"
   ]
  },
  {
   "cell_type": "code",
   "execution_count": null,
   "metadata": {},
   "outputs": [],
   "source": [
    "n_samp = 200"
   ]
  },
  {
   "cell_type": "code",
   "execution_count": null,
   "metadata": {},
   "outputs": [],
   "source": [
    "import random\n",
    "\n",
    "all_plot_samples = []\n",
    "for nn in range(n_models):\n",
    "    print(\"################## Model {} ##################\".format(lab_models[nn]))\n",
    "    samp_flux = []\n",
    "    lbda_samp = None # use native model resolution (set to `lbda` for measured spectrum sampling)\n",
    "    if nn == 0:\n",
    "        # set the wavelength sampling for \n",
    "        lbda_samp=bf_models_hr[-1][0]\n",
    "    for ii in range(n_samp):\n",
    "        # draw a random integer\n",
    "        idx = random.randint(0, len(all_samples_flat[nn]))\n",
    "        param_samp = tuple(all_samples_flat[nn][idx])\n",
    "        samp_lbda, tmp = make_model_from_params(param_samp, all_labels[nn], all_grid_lists[nn], d_st,\n",
    "                                                model_reader=bts_reader, em_lines=all_em_lines[nn], \n",
    "                                                em_grid=all_em_grids[nn], units_obs=units_obs, \n",
    "                                                units_mod=units_mod, interp_order=1, lbda_obs=lbda_samp)\n",
    "        \n",
    "        samp_flux.append(tmp)\n",
    "    # Crop to same range as measurements\n",
    "    idx_ini = find_nearest(samp_lbda,0.99*lbda[0], constraint='floor')\n",
    "    idx_fin = find_nearest(samp_lbda,1.01*lbda[-1], constraint='ceil')\n",
    "    samp_lbda = samp_lbda[idx_ini:idx_fin+1]\n",
    "    samp_fluxes = [samp_flux[ii][idx_ini:idx_fin+1] for ii in range(n_samp)]\n",
    "    all_plot_samples.append([samp_lbda,samp_fluxes])"
   ]
  },
  {
   "cell_type": "markdown",
   "metadata": {},
   "source": [
    "Now let's plot the samples:"
   ]
  },
  {
   "cell_type": "code",
   "execution_count": null,
   "metadata": {},
   "outputs": [],
   "source": [
    "fig, axes = plt.subplots(4,1,figsize=(11,24))\n",
    "\n",
    "# plot options\n",
    "cols = ['k', 'r', 'b', 'c', 'y', 'm'] # colors of different models\n",
    "maj_tick_sp = 0.5 # WL spacing for major ticks\n",
    "min_tick_sp = maj_tick_sp / 5. # WL spacing for minor ticks\n",
    "\n",
    "# Titles\n",
    "for nn in range(n_models):\n",
    "    axes[nn].set_title(\"Sample models from posterior distribution ({})\".format(lab_models[nn]))\n",
    "\n",
    "    # Set axes labels\n",
    "    axes[nn].set_xlabel(r\"Wavelength ($\\mu$m)\")\n",
    "    axes[nn].set_ylabel(r\"$\\lambda F_{\\lambda}$ (W m$^{-2} \\mu$m$^{-1}$)\")\n",
    "\n",
    "    # Options depending on model\n",
    "    if nn==0 or nn ==1:\n",
    "        show_labs = range(len(bf_params[nn]))\n",
    "    elif nn==2:\n",
    "        show_labs = range(len(bf_params[nn])-1)\n",
    "    else:\n",
    "        show_labs = list(range(len(bf_params[nn])-2))\n",
    "    \n",
    "    # Plot sample models\n",
    "    lbda_samp, fluxes_model = all_plot_samples[nn]\n",
    "    for i in range(n_samp):\n",
    "        flux_model = fluxes_model[i]\n",
    "        if i == 0:\n",
    "            lab_str = '{0} = {1:.{2}f} {3}'\n",
    "            lab_str_list = [lab_str.format(all_labels[nn][j], bf_params[nn][j], all_ndig[nn][j], all_units[nn][j]) for j in show_labs]\n",
    "            sep = ', '\n",
    "            label = \"{} model samples\".format(lab_models[nn])#: {}\".format(lab_models[nn], sep.join(lab_str_list))\n",
    "        else:\n",
    "            label = None\n",
    "        axes[nn].plot(lbda_samp, lbda_samp*flux_model, cols[1+nn], linewidth=2, alpha=0.1, label=label)\n",
    "\n",
    "    min_tick = lbda[0]-dlbda[0]/2-((lbda[0]-dlbda[0]/2)%0.2)\n",
    "    max_tick = lbda[-1]+dlbda[-1]/2+(0.2-((lbda[-1]+dlbda[-1]/2)%0.2))\n",
    "    major_ticks1 = np.arange(min_tick,max_tick,maj_tick_sp)\n",
    "    minor_ticks1 = np.arange(min_tick,max_tick,min_tick_sp)\n",
    "\n",
    "    axes[nn].set_xticks(major_ticks1)\n",
    "    axes[nn].set_xticks(minor_ticks1, minor = True)\n",
    "    axes[nn].tick_params(which = 'both', direction = 'in')\n",
    "            \n",
    "\n",
    "    # Plot measured spectrum\n",
    "    axes[nn].errorbar(lbda, lbda*spec, \n",
    "                     lbda*spec_err, fmt=cols[0]+'o', \n",
    "                     label='Measured spectrum')\n",
    "    axes[nn].legend(loc='best')\n",
    "        \n",
    "plt.show()"
   ]
  },
  {
   "cell_type": "markdown",
   "metadata": {},
   "source": [
    "[Go to the top](#Table-of-contents)"
   ]
  },
  {
   "cell_type": "markdown",
   "metadata": {},
   "source": [
    "# 6. Nested sampler examples"
   ]
  },
  {
   "cell_type": "markdown",
   "metadata": {},
   "source": [
    "The procedure to set the nested sampler routines is similar to what we saw with the MCMC, as most parameters of `mcmc_spec_sampling` and `nested_spec_sampling` are identical.\n",
    "\n",
    "The main differences are the `sampler`, `method`, `npoints` or `dlogz` parameters for the nested samplers: \n",
    "\n",
    "- the `sampler` can be set to `'ultranest'` or `'nestle'`. \n",
    "- in the case of `'nestle'`, the `method` can be set to `'classic'` (MCMC; Skilling 2004), `'single'` (single ellipsoid; Mutherjee et al. 2006) or `'multi'` (original multinest implementation as in Feroz et al. 2009, with conservative ellipsoid splitting).\n",
    "- `npoints` corresponds to the number of active live points (minimum number in the case of UltraNest);\n",
    "- `dlogz` is the target evidence uncertainty. The stopping criterion is log(z + z_est) - log(z) < dlogz. There are additional criteria for UltraNest.\n",
    "\n",
    "Other sampler-specific parameters (e.g. `decline_factor` and `rstate` for nestle, or `frac_remain` and `dKL` for UltraNest) can be provided as `kwargs`. The interested reader is referred to the documentation of [UltraNest](https://johannesbuchner.github.io/UltraNest/index.html) and [nestle](http://kylebarbary.com/nestle/) for details on how to appropriately set the values of the different parameters. \n",
    "\n",
    "Below we show three examples of nested sampler runs, using `nestle` and `ultranest`, with the BT-SETTL grid, considering A_V as a free parameter. Let's first set the parameters as in [Sec. 4.3](#4.3.-BT-SETTL-model):"
   ]
  },
  {
   "cell_type": "code",
   "execution_count": null,
   "metadata": {},
   "outputs": [],
   "source": [
    "from utils import bts_reader\n",
    "\n",
    "teff_list = np.linspace(2000,4000,num=21).tolist()\n",
    "logg_list = np.linspace(2.5,5.5,num=7).tolist()\n",
    "grid_list = [teff_list, logg_list]\n",
    "\n",
    "ini_guess = (3100., 3.5, 1.3, 1.6)\n",
    "\n",
    "labels = ('Teff', 'logg', 'R', 'Av')\n",
    "labels_plot = (r'$T$', r'log($g$)', r'$R$',  r'$A_V$')\n",
    "units = ('K', '', r'$R_J$', 'mag')\n",
    "ndig = (0,1,2,1) # number of significant digits\n",
    "units_mod = 'si'\n",
    "bounds = {'Teff':(2000,4000), \n",
    "          'logg':(2.5,5.5), \n",
    "          'R':(0.1,5), \n",
    "          'Av':(0.,5)}\n",
    "model_params={'grid_param_list':grid_list,\n",
    "              'model_reader':bts_reader,\n",
    "              'labels':labels,\n",
    "              'bounds':bounds,\n",
    "              'units_mod':units_mod}\n",
    "\n",
    "grid_name='bts_resamp_grid.fits' \n",
    "output_dir = path+'/static/bts_output/'\n",
    "resamp_before=True\n",
    "output_params = {'resamp_before':resamp_before,\n",
    "                 'grid_name':grid_name,\n",
    "                 'output_dir': output_dir}"
   ]
  },
  {
   "cell_type": "markdown",
   "metadata": {},
   "source": [
    "## 6.1. Nestle - single ellipsoid method"
   ]
  },
  {
   "cell_type": "markdown",
   "metadata": {},
   "source": [
    "Now let's set the parameters that are specific to the nested sampler:"
   ]
  },
  {
   "cell_type": "code",
   "execution_count": null,
   "metadata": {},
   "outputs": [],
   "source": [
    "sampler='nestle'\n",
    "method='single' \n",
    "npoints=1500\n",
    "dlogz=0.1"
   ]
  },
  {
   "cell_type": "code",
   "execution_count": null,
   "metadata": {},
   "outputs": [],
   "source": [
    "nested_params = {'sampler':sampler,\n",
    "                 'method':method,\n",
    "                 'npoints':npoints,\n",
    "                 'dlogz':dlogz}"
   ]
  },
  {
   "cell_type": "markdown",
   "metadata": {},
   "source": [
    "Now let's run the nested sampler. **Warning: the next cell may take up to a few minutes to complete** - reduce the number of active points for a faster calculation."
   ]
  },
  {
   "cell_type": "code",
   "execution_count": null,
   "metadata": {},
   "outputs": [],
   "source": [
    "from special.nested_sampling import nested_spec_sampling\n",
    "\n",
    "res = nested_spec_sampling(ini_guess, lbda, spec, spec_err, d_st, dlbda_obs=dlbda, **instru_params,\n",
    "                           **nested_params, **model_params, **output_params)\n"
   ]
  },
  {
   "cell_type": "markdown",
   "metadata": {},
   "source": [
    "Now let's plot the results:"
   ]
  },
  {
   "cell_type": "code",
   "execution_count": null,
   "metadata": {
    "scrolled": false
   },
   "outputs": [],
   "source": [
    "from special.nested_sampling import show_nestle_results\n",
    "\n",
    "final_res = show_nestle_results(res, labels, method=method, burnin=0.7, bins=None, cfd=68.27, \n",
    "                                units=units, ndig=ndig, labels_plot=labels_plot, save=False, \n",
    "                                output_dir='./', plot=True)"
   ]
  },
  {
   "cell_type": "markdown",
   "metadata": {},
   "source": [
    "The best-fit parameters, with uncertainty are:"
   ]
  },
  {
   "cell_type": "code",
   "execution_count": null,
   "metadata": {},
   "outputs": [],
   "source": [
    "for p in range(len(labels)):\n",
    "    fmt = \"{{:.{0}f}}\".format(ndig[p]).format\n",
    "    line = r\"{0}: {1}+/-{2} {3}\"\n",
    "    print(line.format(labels[p],fmt(final_res[p][0]),fmt(final_res[p][1]), units[p]))"
   ]
  },
  {
   "cell_type": "markdown",
   "metadata": {},
   "source": [
    "## 6.2. Nestle - multi-ellipsoid method"
   ]
  },
  {
   "cell_type": "markdown",
   "metadata": {},
   "source": [
    "Let's adapt the method and number of active points:"
   ]
  },
  {
   "cell_type": "code",
   "execution_count": null,
   "metadata": {},
   "outputs": [],
   "source": [
    "sampler='nestle'\n",
    "method='multi' \n",
    "npoints=2000\n",
    "dlogz=0.5"
   ]
  },
  {
   "cell_type": "code",
   "execution_count": null,
   "metadata": {},
   "outputs": [],
   "source": [
    "nested_params = {'sampler':sampler,\n",
    "                 'method':method,\n",
    "                 'npoints':npoints,\n",
    "                 'dlogz':dlogz}"
   ]
  },
  {
   "cell_type": "markdown",
   "metadata": {},
   "source": [
    "Now let's run the nested sampler. **Warning: the next cell may take up to a few minutes to complete** - reduce the number of active points for a faster calculation."
   ]
  },
  {
   "cell_type": "code",
   "execution_count": null,
   "metadata": {},
   "outputs": [],
   "source": [
    "from special.nested_sampling import nested_spec_sampling\n",
    "\n",
    "res = nested_spec_sampling(ini_guess, lbda, spec, spec_err, d_st, dlbda_obs=dlbda, **instru_params,\n",
    "                           **nested_params, **model_params, **output_params)\n"
   ]
  },
  {
   "cell_type": "markdown",
   "metadata": {},
   "source": [
    "Now let's plot the results:"
   ]
  },
  {
   "cell_type": "code",
   "execution_count": null,
   "metadata": {},
   "outputs": [],
   "source": [
    "from special.nested_sampling import show_nestle_results\n",
    "\n",
    "final_res = show_nestle_results(res, labels, method=method, burnin=0.7, bins=None, cfd=68.27,\n",
    "                                units=units, ndig=ndig, labels_plot=labels_plot, save=False, \n",
    "                                output_dir='./', plot=True)"
   ]
  },
  {
   "cell_type": "markdown",
   "metadata": {},
   "source": [
    "We see that for the case of the spectrum of CrA-9B/b with a BT-SETTL + extinction model, even when we allow for multiple nests, the highest likelihood area in the parameter space still corresponds to an individual ellipsoid."
   ]
  },
  {
   "cell_type": "markdown",
   "metadata": {},
   "source": [
    "## 6.3. UltraNest"
   ]
  },
  {
   "cell_type": "markdown",
   "metadata": {},
   "source": [
    "Let's adapt the sampler and number of active points:"
   ]
  },
  {
   "cell_type": "code",
   "execution_count": null,
   "metadata": {},
   "outputs": [],
   "source": [
    "sampler='ultranest'\n",
    "npoints=1000\n",
    "dlogz=0.2"
   ]
  },
  {
   "cell_type": "code",
   "execution_count": null,
   "metadata": {},
   "outputs": [],
   "source": [
    "nested_params = {'sampler':sampler,\n",
    "                 'method':method,\n",
    "                 'npoints':npoints,\n",
    "                 'dlogz':dlogz}"
   ]
  },
  {
   "cell_type": "markdown",
   "metadata": {},
   "source": [
    "Now let's run the nested sampler. **Warning: the next cell may take up to a few minutes to complete** - reduce the number of active points for a faster calculation."
   ]
  },
  {
   "cell_type": "code",
   "execution_count": null,
   "metadata": {},
   "outputs": [],
   "source": [
    "from special.nested_sampling import nested_spec_sampling\n",
    "\n",
    "res = nested_spec_sampling(ini_guess, lbda, spec, spec_err, d_st, dlbda_obs=dlbda, **instru_params,\n",
    "                           **nested_params, **model_params, **output_params)\n"
   ]
  },
  {
   "cell_type": "markdown",
   "metadata": {},
   "source": [
    "Now let's plot the results:"
   ]
  },
  {
   "cell_type": "code",
   "execution_count": null,
   "metadata": {
    "scrolled": false
   },
   "outputs": [],
   "source": [
    "from special.nested_sampling import show_ultranest_results\n",
    "\n",
    "del model_params[\"bounds\"] # unused for ultranest results plot\n",
    "del instru_params[\"instru_corr\"] # unused for ultranest results plot\n",
    "final_res = show_ultranest_results(res, bins=None, cfd=68.27, save=False, plot=True, \n",
    "                                   units=units, ndig=ndig, labels_plot=labels_plot, \n",
    "                                   lbda_obs=lbda, spec_obs=spec, spec_obs_err=spec_err, dist=d_st, \n",
    "                                   **model_params, **instru_params)"
   ]
  },
  {
   "cell_type": "markdown",
   "metadata": {},
   "source": [
    "We see that for the case of the spectrum of CrA-9B/b with a BT-SETTL + extinction model, UltraNest also finds that the highest likelihood area in the parameter space corresponds to an individual ellipsoid."
   ]
  },
  {
   "cell_type": "markdown",
   "metadata": {},
   "source": [
    "# 7. Best-fit template spectrum"
   ]
  },
  {
   "cell_type": "markdown",
   "metadata": {},
   "source": [
    "In this section, we will find the best-fit template spectra to our measured spectrum in the Montreal Spectral Library of observed M-L-T type low-mass objects. Since the template spectra from this library typically do not cover wavelengths longward of the K band, we will discard the NACO L' point from the spectrum, just for the sake of this exercise: "
   ]
  },
  {
   "cell_type": "code",
   "execution_count": null,
   "metadata": {},
   "outputs": [],
   "source": [
    "lbda_crop = lbda[:-1]\n",
    "spec_crop = spec[:-1]\n",
    "spec_err_crop = spec_err[:-1]\n",
    "dlbda_crop = dlbda[:-1]"
   ]
  },
  {
   "cell_type": "markdown",
   "metadata": {},
   "source": [
    "Let's define the parameters associated to the instrument(s) which acquired the spectrum (again we discard the NACO measurement):"
   ]
  },
  {
   "cell_type": "code",
   "execution_count": null,
   "metadata": {},
   "outputs": [],
   "source": [
    "instru_res_crop = instru_res[:-1]\n",
    "instru_idx_crop = instru_idx[:-1]\n",
    "final_sp_corr_crop = final_sp_corr[:-1,:-1]\n",
    "\n",
    "instru_params = {'instru_res':instru_res_crop,\n",
    "                 'instru_idx':instru_idx_crop,\n",
    "                 'instru_corr':final_sp_corr_crop,\n",
    "                 'filter_reader':filter_reader}"
   ]
  },
  {
   "cell_type": "markdown",
   "metadata": {},
   "source": [
    "For this exercice, we have downloaded the MSL library following the instructions on the page of J. Gagné: https://jgagneastro.com/the-montreal-spectral-library/\n",
    "\n",
    "Below, we then set the folder in which the template spectra placed, and their extension ('.fits', for automatic identification of spectra in that folder). We also define the snippet function `tmp_reader` to read the template spectra in the utils.py file, loaded below."
   ]
  },
  {
   "cell_type": "code",
   "execution_count": null,
   "metadata": {},
   "outputs": [],
   "source": [
    "from utils import tmp_reader\n",
    "inpath_models = path+'/static/MSL/'\n",
    "tmp_endswith='.fits'\n",
    "tmp_params = {'tmp_reader':tmp_reader,\n",
    "              'lib_dir':inpath_models,\n",
    "              'tmp_endswith':tmp_endswith}"
   ]
  },
  {
   "cell_type": "markdown",
   "metadata": {},
   "source": [
    "Let's assume we are interested in the top 3 most similar template spectra:"
   ]
  },
  {
   "cell_type": "code",
   "execution_count": null,
   "metadata": {},
   "outputs": [],
   "source": [
    "n_best=3"
   ]
  },
  {
   "cell_type": "markdown",
   "metadata": {},
   "source": [
    "Let's use the Nelder-Mead algorithm to find the optimal flux scaling factor and $A_V$ to be applied to each template. Additional options for the simplex can be set with `simplex_options` (example above) - these will be provided to the `scipy.minimize` function. "
   ]
  },
  {
   "cell_type": "code",
   "execution_count": null,
   "metadata": {},
   "outputs": [],
   "source": [
    "search_mode = 'simplex' #'grid'\n",
    "simplex_options = {'xatol': 1e-6, 'fatol': 1e-6, 'maxiter': 1000, 'maxfev': 5000}\n",
    "AV_range = (-3, 7, 0.1) # min, max, step. Note: in simplex mode, min and max values are only used to set a chi=np.inf outside of these bounds.\n",
    "\n",
    "search_opt = {'search_mode':search_mode,\n",
    "              'simplex_options':simplex_options, \n",
    "              #'scale_range':(0.2, 5, 0.05),# min, max, step\n",
    "              'ext_range':AV_range}"
   ]
  },
  {
   "cell_type": "markdown",
   "metadata": {},
   "source": [
    "Alternatively, one can set `search_mode` to `'grid'`, which will simply use a grid search to find the optimal $A_V$ and flux scaling factors to be applied to the template spectra for comparison to the measured spectrum. This is slower but avoids the risk of a failed minimization. In this case, both the `AV_range` and `scale_range` parameters have to be set."
   ]
  },
  {
   "cell_type": "markdown",
   "metadata": {},
   "source": [
    "Some template spectra may be corrupted or unusable for this specific spectrum (e.g. wrong wavelength coverage), let's force the algorithm to continue instead of raising an error."
   ]
  },
  {
   "cell_type": "code",
   "execution_count": null,
   "metadata": {},
   "outputs": [],
   "source": [
    "force_continue=True"
   ]
  },
  {
   "cell_type": "markdown",
   "metadata": {},
   "source": [
    "Some template spectra will have a sufficient wavelength coverage (Y to K), but with missing points (NaN values) in between bands (e.g. between J and H bands, or H and K bands). For a given template spectrum to be considered valid, it is recommeded to set a minimum threshold in terms of number of non-NaN resampled points. The risk of not doing that is to end up with best-fit template spectra with very few - but very well fitting - points minimizing our $\\chi_r^2$ metric.\n",
    "\n",
    "Let's set this threshold to cover >80% of our observed spectrum, e.g. 34 points:"
   ]
  },
  {
   "cell_type": "code",
   "execution_count": null,
   "metadata": {},
   "outputs": [],
   "source": [
    "min_npts = 34"
   ]
  },
  {
   "cell_type": "markdown",
   "metadata": {},
   "source": [
    "Now let's find the best-fit templates:"
   ]
  },
  {
   "cell_type": "code",
   "execution_count": null,
   "metadata": {
    "scrolled": true
   },
   "outputs": [],
   "source": [
    "from special.template_fit import best_fit_tmp\n",
    "\n",
    "final_res = best_fit_tmp(lbda_crop, spec_crop, spec_err_crop, dlbda_obs=dlbda_crop, n_best=n_best, \n",
    "                         **tmp_params, **search_opt, **instru_params, force_continue=force_continue, \n",
    "                         verbosity=1, nproc=1, min_npts=min_npts)"
   ]
  },
  {
   "cell_type": "markdown",
   "metadata": {},
   "source": [
    "Let's load the results, and prepare a list of short template names (for display; i.e. without the suffix):"
   ]
  },
  {
   "cell_type": "code",
   "execution_count": null,
   "metadata": {},
   "outputs": [],
   "source": [
    "final_tmpname, final_tmp, final_chi, final_params, final_ndof = final_res\n",
    "\n",
    "n_end = len(tmp_endswith) \n",
    "short_tmpname = [final_tmpname[i][:-n_end] for i in range(len(final_tmpname))]\n",
    "short_tmpname"
   ]
  },
  {
   "cell_type": "markdown",
   "metadata": {},
   "source": [
    "Checking in the [online table of the MSL](https://docs.google.com/spreadsheets/d/1136rRdcjHZJoe00mt4kPeWU8ZNORcPe-w4cipkDKGRc/edit#gid=0), these spectra turn out to correspond to the following types of objects:"
   ]
  },
  {
   "cell_type": "code",
   "execution_count": null,
   "metadata": {},
   "outputs": [],
   "source": [
    "labels_tmp = [\"M3\", \"M4.5\", \"M4\"]"
   ]
  },
  {
   "cell_type": "markdown",
   "metadata": {},
   "source": [
    "Feel free to repeat the fit after changing the exact value of `min_npts` (e.g.~lower this value to allow more templates to be considered in the search). Although the best-fit templates may change a little, you should mostly retrieve M3-M5 spectral types as top-3 template spectra for reasonable values of `min_npts`."
   ]
  },
  {
   "cell_type": "markdown",
   "metadata": {},
   "source": [
    "Let's finally plot the best-fit template spectra, at native resolution and resampled, respectively:"
   ]
  },
  {
   "cell_type": "code",
   "execution_count": null,
   "metadata": {},
   "outputs": [],
   "source": [
    "from special.model_resampling import resample_model\n",
    "\n",
    "# Prepare plot\n",
    "fig, (ax1, ax2) = plt.subplots(2,1,figsize=(11,12))\n",
    "\n",
    "ax1.set_xlabel(r\"Wavelength ($\\mu$m)\")\n",
    "ax1.set_ylabel(\"$\\lambda F_{\\lambda}$ (W m$^{-2}$)\")\n",
    "ax1.set_ylim(0.8*np.amin(lbda*(spec+spec_err)),\n",
    "             1.1*np.amax(lbda*(spec+spec_err)))\n",
    "\n",
    "ax2.set_xlabel(r\"Wavelength ($\\mu$m)\")\n",
    "ax2.set_ylabel(\"$\\lambda F_{\\lambda}$ (W m$^{-2}$)\")\n",
    "ax2.set_ylim(0.8*np.amin(lbda*(spec+spec_err)),\n",
    "             1.1*np.amax(lbda*(spec+spec_err)))\n",
    "\n",
    "# plot options\n",
    "cols = ['k', 'r', 'b', 'c', 'y', 'm'] # colors of different models\n",
    "maj_tick_sp = 0.5 # WL spacing for major ticks\n",
    "min_tick_sp = maj_tick_sp / 5. # WL spacing for minor ticks\n",
    "\n",
    "# Plot of top 3 spectra:\n",
    "counter = 0\n",
    "object_list = []\n",
    "for ll in range(n_best):\n",
    "    ## loading\n",
    "    try:\n",
    "        _, header = open_fits(inpath_models+final_tmpname[ll],header=True)\n",
    "        object_list.append(header['OBJECT'])\n",
    "    except KeyError:\n",
    "        object_list.append(short_tmpname[ll])\n",
    "    lbda_tmp, flux_tmp, flux_tmp_err = final_tmp[ll]\n",
    "\n",
    "    ## cropping range\n",
    "    try:\n",
    "        idx_ini = find_nearest(lbda_tmp,0.98*lbda_crop[0], constraint='floor')\n",
    "    except:\n",
    "        idx_ini = 0\n",
    "    try:\n",
    "        idx_fin = find_nearest(lbda_tmp,1.02*lbda_crop[-1], constraint='ceil')\n",
    "    except:\n",
    "        idx_fin = -1\n",
    "    lbda_tmp_crop = lbda_tmp[idx_ini:idx_fin]\n",
    "    flux_tmp_crop = flux_tmp[idx_ini:idx_fin]\n",
    "    dlbda_tmp = np.mean(lbda_tmp_crop[1:]-lbda_tmp_crop[:-1])\n",
    "\n",
    "    ## Convolving + resampling template spectrum \n",
    "    tmp_res = resample_model(lbda_crop, lbda_tmp, flux_tmp, \n",
    "                             dlbda_obs=dlbda_crop, \n",
    "                             instru_res=instru_res_crop, \n",
    "                             instru_idx=instru_idx_crop, \n",
    "                             filter_reader=filter_reader)\n",
    "    lbda_tmp_res, flux_tmp_res = tmp_res\n",
    "                \n",
    "    ## formatting labels\n",
    "    lab_str_list = [labels_tmp[ll]]\n",
    "    if AV_range is not None:\n",
    "        lab_str = r'$\\Delta A_V$={0:.{1}f}{2}'.format(final_params[1][ll],1,'mag')\n",
    "        lab_str_list.append(lab_str)\n",
    "    sep = '; '\n",
    "    if n_best>1:\n",
    "        label = \"Template #{:.0f}: {} ({})\".format(ll+1, short_tmpname[ll], #labels_tmp[ll], \n",
    "                                                   sep.join(lab_str_list))\n",
    "    else:\n",
    "        label = \"Best template: {} ({})\".format(short_tmpname[ll], #labels_tmp[ll], \n",
    "                                                sep.join(lab_str_list))\n",
    "        \n",
    "    ## plotting\n",
    "    ax1.plot(lbda_tmp_crop, lbda_tmp_crop*flux_tmp_crop, cols[ll+1],\n",
    "             alpha=0.6, label=label)\n",
    "    ax2.plot(lbda_tmp_res, lbda_tmp_res*flux_tmp_res, cols[ll+1],\n",
    "             alpha=0.6, label=label)\n",
    "\n",
    "    ## ticks\n",
    "    min_tick = lbda_crop[0]-dlbda_crop[0]/2-((lbda_crop[0]-dlbda_crop[0]/2)%0.2)\n",
    "    max_tick = lbda_crop[-1]+dlbda_crop[-1]/2+(0.2-((lbda_crop[-1]+dlbda_crop[-1]/2)%0.2))\n",
    "    major_ticks1 = np.arange(min_tick,max_tick,maj_tick_sp)\n",
    "    minor_ticks1 = np.arange(min_tick,max_tick,min_tick_sp)\n",
    "\n",
    "    ax1.set_xticks(major_ticks1)\n",
    "    ax1.set_xticks(minor_ticks1, minor = True)\n",
    "    ax1.tick_params(which = 'both', direction = 'in')\n",
    "    ax2.set_xticks(major_ticks1)\n",
    "    ax2.set_xticks(minor_ticks1, minor = True)\n",
    "    ax2.tick_params(which = 'both', direction = 'in')           \n",
    "\n",
    "# Plot measured spectrum\n",
    "ax1.errorbar(lbda_crop, lbda_crop*spec_crop, \n",
    "             lbda_crop*spec_err_crop, fmt=cols[0]+'o', \n",
    "             label='Measured spectrum')\n",
    "ax1.legend(loc='best')\n",
    "ax2.errorbar(lbda_crop, lbda_crop*spec_crop, \n",
    "             lbda_crop*spec_err_crop, fmt=cols[0]+'o', \n",
    "             label='Measured spectrum')\n",
    "ax2.legend(loc='best')\n",
    "    \n",
    "plt.show()"
   ]
  },
  {
   "cell_type": "markdown",
   "metadata": {},
   "source": [
    "[Go to the top](#Table-of-contents)"
   ]
  }
 ],
 "metadata": {
  "kernelspec": {
   "display_name": "Python 3 (ipykernel)",
   "language": "python",
   "name": "python3"
  },
  "language_info": {
   "codemirror_mode": {
    "name": "ipython",
    "version": 3
   },
   "file_extension": ".py",
   "mimetype": "text/x-python",
   "name": "python",
   "nbconvert_exporter": "python",
   "pygments_lexer": "ipython3",
   "version": "3.9.7"
  },
  "toc": {
   "base_numbering": 1,
   "nav_menu": {},
   "number_sections": false,
   "sideBar": true,
   "skip_h1_title": false,
   "title_cell": "Table of Contents",
   "title_sidebar": "Contents",
   "toc_cell": false,
   "toc_position": {},
   "toc_section_display": true,
   "toc_window_display": true
  }
 },
 "nbformat": 4,
 "nbformat_minor": 2
}
